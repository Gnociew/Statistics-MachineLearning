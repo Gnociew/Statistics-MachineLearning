{
 "cells": [
  {
   "cell_type": "markdown",
   "metadata": {},
   "source": [
    "# **实验作业-4：多重共线性**\n",
    "刘蔚璁 10225501443"
   ]
  },
  {
   "cell_type": "markdown",
   "metadata": {},
   "source": [
    "## **任务**\n",
    "### **数据预处理**\n",
    "1. 从 scikit-learn 包中载入数据集 diabetes。\n",
    "2. 通过阅读以下参考文献1和2，定义清楚问题背景、数据中响应变量和自变量的概念、取值范围等信息。\n",
    "3. 以学号的最后三位数字作为随机种子，采用留出法划分训练集和测试集，样本比例为$7.5:2.5$。\n",
    "### **模型构建**\n",
    "在本次实验中我们将 a quantitative measure of disease progression one year after baseline 作为响应变量，根据参考文献2来构建的特征，并训练模型。\n",
    "\n",
    "4. 判断用于建模的特征数据中是否存在多重共线性？提供合适的判断方案。\n",
    "5. 构建线性回归模型 Model_1、岭回归模型 Model_2、主成分回归模型 Model_3。\n",
    "### **模型评价**\n",
    "6. 利用 RMSE，比较 Model_1、Model_2、Model_3 在测试集上的预测效果。请进行评论。"
   ]
  },
  {
   "cell_type": "markdown",
   "metadata": {},
   "source": [
    "## **解决方案**"
   ]
  },
  {
   "cell_type": "markdown",
   "metadata": {},
   "source": [
    "### **实验前的准备**"
   ]
  },
  {
   "cell_type": "markdown",
   "metadata": {},
   "source": [
    "首先载入实验所需要的 Python 包："
   ]
  },
  {
   "cell_type": "code",
   "execution_count": null,
   "metadata": {},
   "outputs": [],
   "source": [
    "\n",
    "from sklearn.preprocessing import PolynomialFeatures\n",
    "from sklearn.datasets import load_diabetes\n",
    "\n",
    "import os\n",
    "\n",
    "import pandas as pd\n",
    "import numpy as np\n",
    "import random\n",
    "import seaborn as sns\n",
    "import scipy.stats as stats\n",
    "import matplotlib.pyplot as plt\n",
    "import math\n",
    "\n",
    "from sklearn import preprocessing # Data Preprocessing\n",
    "import statsmodels.api as sm # LSE, Ridge Regression\n",
    "from statsmodels.stats.outliers_influence import variance_inflation_factor # VIF \n",
    "from statsmodels.multivariate.pca import PCA # PCR"
   ]
  },
  {
   "cell_type": "markdown",
   "metadata": {},
   "source": [
    "### **Step1.载入数据集**"
   ]
  },
  {
   "cell_type": "markdown",
   "metadata": {},
   "source": [
    "scikit-learn 包中自带了一些小数据集，我们所要使用的是其中用于回归的糖尿病数据集，可以使用 `load_diabetes(*[, return_X_y, as_frame, scaled])` 加载原始数据集："
   ]
  },
  {
   "cell_type": "code",
   "execution_count": 336,
   "metadata": {},
   "outputs": [
    {
     "name": "stdout",
     "output_type": "stream",
     "text": [
      "        age       sex       bmi        bp        s1        s2        s3   \n",
      "0  0.038076  0.050680  0.061696  0.021872 -0.044223 -0.034821 -0.043401  \\\n",
      "1 -0.001882 -0.044642 -0.051474 -0.026328 -0.008449 -0.019163  0.074412   \n",
      "2  0.085299  0.050680  0.044451 -0.005670 -0.045599 -0.034194 -0.032356   \n",
      "3 -0.089063 -0.044642 -0.011595 -0.036656  0.012191  0.024991 -0.036038   \n",
      "4  0.005383 -0.044642 -0.036385  0.021872  0.003935  0.015596  0.008142   \n",
      "\n",
      "         s4        s5        s6  \n",
      "0 -0.002592  0.019907 -0.017646  \n",
      "1 -0.039493 -0.068332 -0.092204  \n",
      "2 -0.002592  0.002861 -0.025930  \n",
      "3  0.034309  0.022688 -0.009362  \n",
      "4 -0.002592 -0.031988 -0.046641  \n",
      "0    151.0\n",
      "1     75.0\n",
      "2    141.0\n",
      "3    206.0\n",
      "4    135.0\n",
      "dtype: float64\n"
     ]
    }
   ],
   "source": [
    "diabetes_data = load_diabetes()\n",
    "X= pd.DataFrame(diabetes_data.data, columns=diabetes_data.feature_names)\n",
    "y = pd.Series(diabetes_data.target)\n",
    "\n",
    "# 查看数据的基本信息\n",
    "print(X.head())\n",
    "print(y.head())"
   ]
  },
  {
   "cell_type": "markdown",
   "metadata": {},
   "source": [
    "先简单统计一下这个数据集中的一些基本信息，如样本量、特征维度："
   ]
  },
  {
   "cell_type": "code",
   "execution_count": 35,
   "metadata": {},
   "outputs": [
    {
     "name": "stdout",
     "output_type": "stream",
     "text": [
      "The number of features is 10\n",
      "The sample size is 442\n"
     ]
    }
   ],
   "source": [
    "p = X.shape[1]\n",
    "n = X.shape[0]\n",
    "\n",
    "print(\"The number of features is\",p)\n",
    "print(\"The sample size is\",n)"
   ]
  },
  {
   "cell_type": "markdown",
   "metadata": {},
   "source": [
    "接着根据参考文献 2 构造二次项和交叉项，这里使用 scikit-learn 中的 `PolynomialFeatures`，可以自动生成交叉项，**注意构造结果不包括性别的二次项**："
   ]
  },
  {
   "cell_type": "code",
   "execution_count": 92,
   "metadata": {},
   "outputs": [
    {
     "name": "stdout",
     "output_type": "stream",
     "text": [
      "        age       sex       bmi        bp        s1        s2        s3   \n",
      "0  0.038076  0.050680  0.061696  0.021872 -0.044223 -0.034821 -0.043401  \\\n",
      "1 -0.001882 -0.044642 -0.051474 -0.026328 -0.008449 -0.019163  0.074412   \n",
      "2  0.085299  0.050680  0.044451 -0.005670 -0.045599 -0.034194 -0.032356   \n",
      "3 -0.089063 -0.044642 -0.011595 -0.036656  0.012191  0.024991 -0.036038   \n",
      "4  0.005383 -0.044642 -0.036385  0.021872  0.003935  0.015596  0.008142   \n",
      "\n",
      "         s4        s5        s6  ...     s2_s3     s2_s4     s2_s5     s2_s6   \n",
      "0 -0.002592  0.019907 -0.017646  ...  0.001511  0.000090 -0.000693  0.000614  \\\n",
      "1 -0.039493 -0.068332 -0.092204  ... -0.001426  0.000757  0.001309  0.001767   \n",
      "2 -0.002592  0.002861 -0.025930  ...  0.001106  0.000089 -0.000098  0.000887   \n",
      "3  0.034309  0.022688 -0.009362  ... -0.000901  0.000857  0.000567 -0.000234   \n",
      "4 -0.002592 -0.031988 -0.046641  ...  0.000127 -0.000040 -0.000499 -0.000727   \n",
      "\n",
      "      s3_s4     s3_s5     s3_s6     s4_s5     s4_s6     s5_s6  \n",
      "0  0.000113 -0.000864  0.000766 -0.000052  0.000046 -0.000351  \n",
      "1 -0.002939 -0.005085 -0.006861  0.002699  0.003641  0.006300  \n",
      "2  0.000084 -0.000093  0.000839 -0.000007  0.000067 -0.000074  \n",
      "3 -0.001236 -0.000818  0.000337  0.000778 -0.000321 -0.000212  \n",
      "4 -0.000021 -0.000260 -0.000380  0.000083  0.000121  0.001492  \n",
      "\n",
      "[5 rows x 64 columns]\n",
      "The number of features is 64\n"
     ]
    }
   ],
   "source": [
    "# 创建多项式特征（包括二次项和交互项）\n",
    "poly = PolynomialFeatures(degree=2, include_bias=False)\n",
    "X_poly = poly.fit_transform(X)\n",
    "\n",
    "# 创建特征名称\n",
    "feature_names = poly.get_feature_names_out(X.columns)\n",
    "feature_names = [name.replace(' ', '_') for name in feature_names]\n",
    "\n",
    "# 将生成的特征转换为 DataFrame\n",
    "X_poly = pd.DataFrame(X_poly, columns=feature_names)\n",
    "\n",
    "# 排除 sex*sex 这一项\n",
    "X_poly= X_poly.loc[:, X_poly.columns != 'sex^2']\n",
    "\n",
    "# 提取所有带 ^2 的列名\n",
    "squared_features = [col for col in X_poly.columns if '^2' in col]\n",
    "# 提取不带 ^2 的列名\n",
    "non_squared_features = [col for col in X_poly.columns if '^2' not in col]\n",
    "# 将带 ^2 的列插入到第11个特征位置\n",
    "ordered_features = non_squared_features[:10] + squared_features + non_squared_features[10:]\n",
    "# 重新排列 DataFrame 的列\n",
    "X_poly = X_poly[ordered_features]\n",
    "\n",
    "# 查看结果\n",
    "print(X_poly.head())\n",
    "print(\"The number of features is\", X_poly.shape[1])"
   ]
  },
  {
   "cell_type": "markdown",
   "metadata": {},
   "source": [
    "更新特征数量："
   ]
  },
  {
   "cell_type": "code",
   "execution_count": 252,
   "metadata": {},
   "outputs": [
    {
     "name": "stdout",
     "output_type": "stream",
     "text": [
      "the number of features is 64\n"
     ]
    }
   ],
   "source": [
    "p = X_poly.shape[1]\n",
    "print(\"the number of features is\",p)"
   ]
  },
  {
   "cell_type": "markdown",
   "metadata": {},
   "source": [
    "### **Step2.定义**"
   ]
  },
  {
   "cell_type": "markdown",
   "metadata": {},
   "source": [
    "#### **问题背景**\n",
    "\n",
    "本次数据来自于糖尿病患者的临床研究，收集了442名患者的基线信息和一年的疾病进展指标。数据记录了患者的基本特征以及相关的血清测量值，旨在通过这些信息分析影响疾病进展的因素。"
   ]
  },
  {
   "cell_type": "markdown",
   "metadata": {},
   "source": [
    "#### **数据**\n",
    "\n",
    "在本次数据中，共有11个变量（1个响应变量与10个自变量），具体如下表所示：\n",
    "\n",
    "<table width = c(100,800,700), center = True> \n",
    "<tr> <td> 变量名 </td> <td> 英文变量含义 </td> <td> 中文变量含义 </td> </tr> \n",
    "<tr> <td> age </td> <td> Age in years </td> <td> 年龄（以年为单位） </td> </tr> \n",
    "<tr> <td> sex </td> <td> Gender (1: male, 0: female) </td> <td> 性别（1：男性，0：女性） </td> </tr> \n",
    "<tr> <td> bmi </td> <td> Body mass index </td> <td> 体重指数 </td> </tr> \n",
    "<tr> <td> bp </td> <td> Average blood pressure </td> <td> 平均血压 </td> </tr> \n",
    "<tr> <td> s1 </td> <td> Total serum cholesterol (tc) </td> <td> 总胆固醇 </td> </tr> \n",
    "<tr> <td> s2 </td> <td> Low-density lipoproteins (ldl) </td> <td> 低密度脂蛋白 </td> </tr> \n",
    "<tr> <td> s3 </td> <td> High-density lipoproteins (hdl) </td> <td> 高密度脂蛋白 </td> </tr> \n",
    "<tr> <td> s4 </td> <td> Total cholesterol / HDL (tch) </td> <td> 胆固醇与高密度脂蛋白的比值 </td> </tr> \n",
    "<tr> <td> s5 </td> <td> Possibly log of serum triglycerides level (ltg) </td> <td> 可能是血清甘油三酯的对数 </td> </tr> \n",
    "<tr> <td> s6 </td> <td> Blood sugar level (glu) </td> <td> 血糖水平 </td> </tr> \n",
    "<tr> <td> y </td> <td> Quantitative measure of disease progression after one year </td> <td> 一年后疾病进展的定量指标 </td> </tr>\n",
    " </table>\n",
    " \n",
    "我们希望研究糖尿病患者的临床特征与疾病进展之间的关系。因此，y 是本次模型中的响应变量，其余10个变量为自变量。数据中的各变量已进行均值中心化和标准化，确保分析的有效性和准确性。"
   ]
  },
  {
   "cell_type": "markdown",
   "metadata": {},
   "source": [
    "接着统计各数据的取值范围："
   ]
  },
  {
   "cell_type": "code",
   "execution_count": 338,
   "metadata": {},
   "outputs": [
    {
     "name": "stdout",
     "output_type": "stream",
     "text": [
      "Feature Min Values:\n",
      " age   -0.107226\n",
      "sex   -0.044642\n",
      "bmi   -0.090275\n",
      "bp    -0.112399\n",
      "s1    -0.126781\n",
      "s2    -0.115613\n",
      "s3    -0.102307\n",
      "s4    -0.076395\n",
      "s5    -0.126097\n",
      "s6    -0.137767\n",
      "dtype: float64\n",
      "Feature Max Values:\n",
      " age    0.110727\n",
      "sex    0.050680\n",
      "bmi    0.170555\n",
      "bp     0.132044\n",
      "s1     0.153914\n",
      "s2     0.198788\n",
      "s3     0.181179\n",
      "s4     0.185234\n",
      "s5     0.133597\n",
      "s6     0.135612\n",
      "dtype: float64\n",
      "Label Min Value: 25.0\n",
      "Label Max Value: 346.0\n"
     ]
    }
   ],
   "source": [
    "# 计算特征的取值范围\n",
    "feature_min = X.min()  # 每个特征的最小值\n",
    "feature_max = X.max()  # 每个特征的最大值\n",
    "\n",
    "# 计算标签的取值范围\n",
    "label_min = y.min()  # 标签的最小值\n",
    "label_max = y.max()  # 标签的最大值\n",
    "\n",
    "# 打印特征的取值范围\n",
    "print(\"Feature Min Values:\\n\", feature_min)\n",
    "print(\"Feature Max Values:\\n\", feature_max)\n",
    "\n",
    "# 打印标签的取值范围\n",
    "print(\"Label Min Value:\", label_min)\n",
    "print(\"Label Max Value:\", label_max)"
   ]
  },
  {
   "cell_type": "markdown",
   "metadata": {},
   "source": [
    "### **Step3.使用留出法划分训练集和测试集**"
   ]
  },
  {
   "cell_type": "code",
   "execution_count": 236,
   "metadata": {},
   "outputs": [
    {
     "name": "stdout",
     "output_type": "stream",
     "text": [
      "训练集数量： 332\n",
      "测试集数量： 110\n"
     ]
    }
   ],
   "source": [
    "n_train = math.ceil(n * 0.75)\n",
    "print(\"训练集数量：\",n_train)\n",
    "n_test = n-n_train\n",
    "print(\"测试集数量：\",n_test)\n",
    "seed = 443\n",
    "random.seed(seed)\n",
    "index = range(0,n)\n",
    "index_selected = random.sample(index,n_train)\n",
    "index_selected.sort()\n",
    "\n",
    "X_train = X_poly.loc[index_selected]\n",
    "y_train = y.loc[index_selected]\n",
    "X_test = X_poly.drop(index = index_selected)\n",
    "y_test = y.drop(index = index_selected)"
   ]
  },
  {
   "cell_type": "markdown",
   "metadata": {},
   "source": [
    "用于建模的数据集："
   ]
  },
  {
   "cell_type": "code",
   "execution_count": 237,
   "metadata": {},
   "outputs": [
    {
     "data": {
      "text/html": [
       "<div>\n",
       "<style scoped>\n",
       "    .dataframe tbody tr th:only-of-type {\n",
       "        vertical-align: middle;\n",
       "    }\n",
       "\n",
       "    .dataframe tbody tr th {\n",
       "        vertical-align: top;\n",
       "    }\n",
       "\n",
       "    .dataframe thead th {\n",
       "        text-align: right;\n",
       "    }\n",
       "</style>\n",
       "<table border=\"1\" class=\"dataframe\">\n",
       "  <thead>\n",
       "    <tr style=\"text-align: right;\">\n",
       "      <th></th>\n",
       "      <th>age</th>\n",
       "      <th>sex</th>\n",
       "      <th>bmi</th>\n",
       "      <th>bp</th>\n",
       "      <th>s1</th>\n",
       "      <th>s2</th>\n",
       "      <th>s3</th>\n",
       "      <th>s4</th>\n",
       "      <th>s5</th>\n",
       "      <th>s6</th>\n",
       "      <th>...</th>\n",
       "      <th>s2_s3</th>\n",
       "      <th>s2_s4</th>\n",
       "      <th>s2_s5</th>\n",
       "      <th>s2_s6</th>\n",
       "      <th>s3_s4</th>\n",
       "      <th>s3_s5</th>\n",
       "      <th>s3_s6</th>\n",
       "      <th>s4_s5</th>\n",
       "      <th>s4_s6</th>\n",
       "      <th>s5_s6</th>\n",
       "    </tr>\n",
       "  </thead>\n",
       "  <tbody>\n",
       "    <tr>\n",
       "      <th>1</th>\n",
       "      <td>-0.001882</td>\n",
       "      <td>-0.044642</td>\n",
       "      <td>-0.051474</td>\n",
       "      <td>-0.026328</td>\n",
       "      <td>-0.008449</td>\n",
       "      <td>-0.019163</td>\n",
       "      <td>0.074412</td>\n",
       "      <td>-0.039493</td>\n",
       "      <td>-0.068332</td>\n",
       "      <td>-0.092204</td>\n",
       "      <td>...</td>\n",
       "      <td>-0.001426</td>\n",
       "      <td>0.000757</td>\n",
       "      <td>0.001309</td>\n",
       "      <td>0.001767</td>\n",
       "      <td>-0.002939</td>\n",
       "      <td>-0.005085</td>\n",
       "      <td>-0.006861</td>\n",
       "      <td>0.002699</td>\n",
       "      <td>0.003641</td>\n",
       "      <td>0.006300</td>\n",
       "    </tr>\n",
       "    <tr>\n",
       "      <th>2</th>\n",
       "      <td>0.085299</td>\n",
       "      <td>0.050680</td>\n",
       "      <td>0.044451</td>\n",
       "      <td>-0.005670</td>\n",
       "      <td>-0.045599</td>\n",
       "      <td>-0.034194</td>\n",
       "      <td>-0.032356</td>\n",
       "      <td>-0.002592</td>\n",
       "      <td>0.002861</td>\n",
       "      <td>-0.025930</td>\n",
       "      <td>...</td>\n",
       "      <td>0.001106</td>\n",
       "      <td>0.000089</td>\n",
       "      <td>-0.000098</td>\n",
       "      <td>0.000887</td>\n",
       "      <td>0.000084</td>\n",
       "      <td>-0.000093</td>\n",
       "      <td>0.000839</td>\n",
       "      <td>-0.000007</td>\n",
       "      <td>0.000067</td>\n",
       "      <td>-0.000074</td>\n",
       "    </tr>\n",
       "    <tr>\n",
       "      <th>3</th>\n",
       "      <td>-0.089063</td>\n",
       "      <td>-0.044642</td>\n",
       "      <td>-0.011595</td>\n",
       "      <td>-0.036656</td>\n",
       "      <td>0.012191</td>\n",
       "      <td>0.024991</td>\n",
       "      <td>-0.036038</td>\n",
       "      <td>0.034309</td>\n",
       "      <td>0.022688</td>\n",
       "      <td>-0.009362</td>\n",
       "      <td>...</td>\n",
       "      <td>-0.000901</td>\n",
       "      <td>0.000857</td>\n",
       "      <td>0.000567</td>\n",
       "      <td>-0.000234</td>\n",
       "      <td>-0.001236</td>\n",
       "      <td>-0.000818</td>\n",
       "      <td>0.000337</td>\n",
       "      <td>0.000778</td>\n",
       "      <td>-0.000321</td>\n",
       "      <td>-0.000212</td>\n",
       "    </tr>\n",
       "    <tr>\n",
       "      <th>4</th>\n",
       "      <td>0.005383</td>\n",
       "      <td>-0.044642</td>\n",
       "      <td>-0.036385</td>\n",
       "      <td>0.021872</td>\n",
       "      <td>0.003935</td>\n",
       "      <td>0.015596</td>\n",
       "      <td>0.008142</td>\n",
       "      <td>-0.002592</td>\n",
       "      <td>-0.031988</td>\n",
       "      <td>-0.046641</td>\n",
       "      <td>...</td>\n",
       "      <td>0.000127</td>\n",
       "      <td>-0.000040</td>\n",
       "      <td>-0.000499</td>\n",
       "      <td>-0.000727</td>\n",
       "      <td>-0.000021</td>\n",
       "      <td>-0.000260</td>\n",
       "      <td>-0.000380</td>\n",
       "      <td>0.000083</td>\n",
       "      <td>0.000121</td>\n",
       "      <td>0.001492</td>\n",
       "    </tr>\n",
       "    <tr>\n",
       "      <th>5</th>\n",
       "      <td>-0.092695</td>\n",
       "      <td>-0.044642</td>\n",
       "      <td>-0.040696</td>\n",
       "      <td>-0.019442</td>\n",
       "      <td>-0.068991</td>\n",
       "      <td>-0.079288</td>\n",
       "      <td>0.041277</td>\n",
       "      <td>-0.076395</td>\n",
       "      <td>-0.041176</td>\n",
       "      <td>-0.096346</td>\n",
       "      <td>...</td>\n",
       "      <td>-0.003273</td>\n",
       "      <td>0.006057</td>\n",
       "      <td>0.003265</td>\n",
       "      <td>0.007639</td>\n",
       "      <td>-0.003153</td>\n",
       "      <td>-0.001700</td>\n",
       "      <td>-0.003977</td>\n",
       "      <td>0.003146</td>\n",
       "      <td>0.007360</td>\n",
       "      <td>0.003967</td>\n",
       "    </tr>\n",
       "  </tbody>\n",
       "</table>\n",
       "<p>5 rows × 64 columns</p>\n",
       "</div>"
      ],
      "text/plain": [
       "        age       sex       bmi        bp        s1        s2        s3   \n",
       "1 -0.001882 -0.044642 -0.051474 -0.026328 -0.008449 -0.019163  0.074412  \\\n",
       "2  0.085299  0.050680  0.044451 -0.005670 -0.045599 -0.034194 -0.032356   \n",
       "3 -0.089063 -0.044642 -0.011595 -0.036656  0.012191  0.024991 -0.036038   \n",
       "4  0.005383 -0.044642 -0.036385  0.021872  0.003935  0.015596  0.008142   \n",
       "5 -0.092695 -0.044642 -0.040696 -0.019442 -0.068991 -0.079288  0.041277   \n",
       "\n",
       "         s4        s5        s6  ...     s2_s3     s2_s4     s2_s5     s2_s6   \n",
       "1 -0.039493 -0.068332 -0.092204  ... -0.001426  0.000757  0.001309  0.001767  \\\n",
       "2 -0.002592  0.002861 -0.025930  ...  0.001106  0.000089 -0.000098  0.000887   \n",
       "3  0.034309  0.022688 -0.009362  ... -0.000901  0.000857  0.000567 -0.000234   \n",
       "4 -0.002592 -0.031988 -0.046641  ...  0.000127 -0.000040 -0.000499 -0.000727   \n",
       "5 -0.076395 -0.041176 -0.096346  ... -0.003273  0.006057  0.003265  0.007639   \n",
       "\n",
       "      s3_s4     s3_s5     s3_s6     s4_s5     s4_s6     s5_s6  \n",
       "1 -0.002939 -0.005085 -0.006861  0.002699  0.003641  0.006300  \n",
       "2  0.000084 -0.000093  0.000839 -0.000007  0.000067 -0.000074  \n",
       "3 -0.001236 -0.000818  0.000337  0.000778 -0.000321 -0.000212  \n",
       "4 -0.000021 -0.000260 -0.000380  0.000083  0.000121  0.001492  \n",
       "5 -0.003153 -0.001700 -0.003977  0.003146  0.007360  0.003967  \n",
       "\n",
       "[5 rows x 64 columns]"
      ]
     },
     "execution_count": 237,
     "metadata": {},
     "output_type": "execute_result"
    }
   ],
   "source": [
    "X_train.head()"
   ]
  },
  {
   "cell_type": "code",
   "execution_count": 238,
   "metadata": {},
   "outputs": [
    {
     "data": {
      "text/plain": [
       "1     75.0\n",
       "2    141.0\n",
       "3    206.0\n",
       "4    135.0\n",
       "5     97.0\n",
       "dtype: float64"
      ]
     },
     "execution_count": 238,
     "metadata": {},
     "output_type": "execute_result"
    }
   ],
   "source": [
    "y_train.head()"
   ]
  },
  {
   "cell_type": "markdown",
   "metadata": {},
   "source": [
    "用于评价的数据集："
   ]
  },
  {
   "cell_type": "code",
   "execution_count": 239,
   "metadata": {},
   "outputs": [
    {
     "data": {
      "text/html": [
       "<div>\n",
       "<style scoped>\n",
       "    .dataframe tbody tr th:only-of-type {\n",
       "        vertical-align: middle;\n",
       "    }\n",
       "\n",
       "    .dataframe tbody tr th {\n",
       "        vertical-align: top;\n",
       "    }\n",
       "\n",
       "    .dataframe thead th {\n",
       "        text-align: right;\n",
       "    }\n",
       "</style>\n",
       "<table border=\"1\" class=\"dataframe\">\n",
       "  <thead>\n",
       "    <tr style=\"text-align: right;\">\n",
       "      <th></th>\n",
       "      <th>age</th>\n",
       "      <th>sex</th>\n",
       "      <th>bmi</th>\n",
       "      <th>bp</th>\n",
       "      <th>s1</th>\n",
       "      <th>s2</th>\n",
       "      <th>s3</th>\n",
       "      <th>s4</th>\n",
       "      <th>s5</th>\n",
       "      <th>s6</th>\n",
       "      <th>...</th>\n",
       "      <th>s2_s3</th>\n",
       "      <th>s2_s4</th>\n",
       "      <th>s2_s5</th>\n",
       "      <th>s2_s6</th>\n",
       "      <th>s3_s4</th>\n",
       "      <th>s3_s5</th>\n",
       "      <th>s3_s6</th>\n",
       "      <th>s4_s5</th>\n",
       "      <th>s4_s6</th>\n",
       "      <th>s5_s6</th>\n",
       "    </tr>\n",
       "  </thead>\n",
       "  <tbody>\n",
       "    <tr>\n",
       "      <th>0</th>\n",
       "      <td>0.038076</td>\n",
       "      <td>0.050680</td>\n",
       "      <td>0.061696</td>\n",
       "      <td>0.021872</td>\n",
       "      <td>-0.044223</td>\n",
       "      <td>-0.034821</td>\n",
       "      <td>-0.043401</td>\n",
       "      <td>-0.002592</td>\n",
       "      <td>0.019907</td>\n",
       "      <td>-0.017646</td>\n",
       "      <td>...</td>\n",
       "      <td>0.001511</td>\n",
       "      <td>0.000090</td>\n",
       "      <td>-0.000693</td>\n",
       "      <td>0.000614</td>\n",
       "      <td>0.000113</td>\n",
       "      <td>-0.000864</td>\n",
       "      <td>0.000766</td>\n",
       "      <td>-0.000052</td>\n",
       "      <td>0.000046</td>\n",
       "      <td>-0.000351</td>\n",
       "    </tr>\n",
       "    <tr>\n",
       "      <th>9</th>\n",
       "      <td>-0.070900</td>\n",
       "      <td>-0.044642</td>\n",
       "      <td>0.039062</td>\n",
       "      <td>-0.033213</td>\n",
       "      <td>-0.012577</td>\n",
       "      <td>-0.034508</td>\n",
       "      <td>-0.024993</td>\n",
       "      <td>-0.002592</td>\n",
       "      <td>0.067737</td>\n",
       "      <td>-0.013504</td>\n",
       "      <td>...</td>\n",
       "      <td>0.000862</td>\n",
       "      <td>0.000089</td>\n",
       "      <td>-0.002337</td>\n",
       "      <td>0.000466</td>\n",
       "      <td>0.000065</td>\n",
       "      <td>-0.001693</td>\n",
       "      <td>0.000338</td>\n",
       "      <td>-0.000176</td>\n",
       "      <td>0.000035</td>\n",
       "      <td>-0.000915</td>\n",
       "    </tr>\n",
       "    <tr>\n",
       "      <th>12</th>\n",
       "      <td>0.016281</td>\n",
       "      <td>-0.044642</td>\n",
       "      <td>-0.028840</td>\n",
       "      <td>-0.009113</td>\n",
       "      <td>-0.004321</td>\n",
       "      <td>-0.009769</td>\n",
       "      <td>0.044958</td>\n",
       "      <td>-0.039493</td>\n",
       "      <td>-0.030748</td>\n",
       "      <td>-0.042499</td>\n",
       "      <td>...</td>\n",
       "      <td>-0.000439</td>\n",
       "      <td>0.000386</td>\n",
       "      <td>0.000300</td>\n",
       "      <td>0.000415</td>\n",
       "      <td>-0.001776</td>\n",
       "      <td>-0.001382</td>\n",
       "      <td>-0.001911</td>\n",
       "      <td>0.001214</td>\n",
       "      <td>0.001678</td>\n",
       "      <td>0.001307</td>\n",
       "    </tr>\n",
       "    <tr>\n",
       "      <th>28</th>\n",
       "      <td>0.052606</td>\n",
       "      <td>-0.044642</td>\n",
       "      <td>-0.021295</td>\n",
       "      <td>-0.074527</td>\n",
       "      <td>-0.040096</td>\n",
       "      <td>-0.037639</td>\n",
       "      <td>-0.006584</td>\n",
       "      <td>-0.039493</td>\n",
       "      <td>-0.000612</td>\n",
       "      <td>-0.054925</td>\n",
       "      <td>...</td>\n",
       "      <td>0.000248</td>\n",
       "      <td>0.001486</td>\n",
       "      <td>0.000023</td>\n",
       "      <td>0.002067</td>\n",
       "      <td>0.000260</td>\n",
       "      <td>0.000004</td>\n",
       "      <td>0.000362</td>\n",
       "      <td>0.000024</td>\n",
       "      <td>0.002169</td>\n",
       "      <td>0.000034</td>\n",
       "    </tr>\n",
       "    <tr>\n",
       "      <th>29</th>\n",
       "      <td>0.067136</td>\n",
       "      <td>0.050680</td>\n",
       "      <td>-0.006206</td>\n",
       "      <td>0.063187</td>\n",
       "      <td>-0.042848</td>\n",
       "      <td>-0.095885</td>\n",
       "      <td>0.052322</td>\n",
       "      <td>-0.076395</td>\n",
       "      <td>0.059424</td>\n",
       "      <td>0.052770</td>\n",
       "      <td>...</td>\n",
       "      <td>-0.005017</td>\n",
       "      <td>0.007325</td>\n",
       "      <td>-0.005698</td>\n",
       "      <td>-0.005060</td>\n",
       "      <td>-0.003997</td>\n",
       "      <td>0.003109</td>\n",
       "      <td>0.002761</td>\n",
       "      <td>-0.004540</td>\n",
       "      <td>-0.004031</td>\n",
       "      <td>0.003136</td>\n",
       "    </tr>\n",
       "  </tbody>\n",
       "</table>\n",
       "<p>5 rows × 64 columns</p>\n",
       "</div>"
      ],
      "text/plain": [
       "         age       sex       bmi        bp        s1        s2        s3   \n",
       "0   0.038076  0.050680  0.061696  0.021872 -0.044223 -0.034821 -0.043401  \\\n",
       "9  -0.070900 -0.044642  0.039062 -0.033213 -0.012577 -0.034508 -0.024993   \n",
       "12  0.016281 -0.044642 -0.028840 -0.009113 -0.004321 -0.009769  0.044958   \n",
       "28  0.052606 -0.044642 -0.021295 -0.074527 -0.040096 -0.037639 -0.006584   \n",
       "29  0.067136  0.050680 -0.006206  0.063187 -0.042848 -0.095885  0.052322   \n",
       "\n",
       "          s4        s5        s6  ...     s2_s3     s2_s4     s2_s5     s2_s6   \n",
       "0  -0.002592  0.019907 -0.017646  ...  0.001511  0.000090 -0.000693  0.000614  \\\n",
       "9  -0.002592  0.067737 -0.013504  ...  0.000862  0.000089 -0.002337  0.000466   \n",
       "12 -0.039493 -0.030748 -0.042499  ... -0.000439  0.000386  0.000300  0.000415   \n",
       "28 -0.039493 -0.000612 -0.054925  ...  0.000248  0.001486  0.000023  0.002067   \n",
       "29 -0.076395  0.059424  0.052770  ... -0.005017  0.007325 -0.005698 -0.005060   \n",
       "\n",
       "       s3_s4     s3_s5     s3_s6     s4_s5     s4_s6     s5_s6  \n",
       "0   0.000113 -0.000864  0.000766 -0.000052  0.000046 -0.000351  \n",
       "9   0.000065 -0.001693  0.000338 -0.000176  0.000035 -0.000915  \n",
       "12 -0.001776 -0.001382 -0.001911  0.001214  0.001678  0.001307  \n",
       "28  0.000260  0.000004  0.000362  0.000024  0.002169  0.000034  \n",
       "29 -0.003997  0.003109  0.002761 -0.004540 -0.004031  0.003136  \n",
       "\n",
       "[5 rows x 64 columns]"
      ]
     },
     "execution_count": 239,
     "metadata": {},
     "output_type": "execute_result"
    }
   ],
   "source": [
    "X_test.head()"
   ]
  },
  {
   "cell_type": "code",
   "execution_count": 240,
   "metadata": {},
   "outputs": [
    {
     "data": {
      "text/plain": [
       "0     151.0\n",
       "9     310.0\n",
       "12    179.0\n",
       "28    131.0\n",
       "29    283.0\n",
       "dtype: float64"
      ]
     },
     "execution_count": 240,
     "metadata": {},
     "output_type": "execute_result"
    }
   ],
   "source": [
    "y_test.head()"
   ]
  },
  {
   "cell_type": "markdown",
   "metadata": {},
   "source": [
    "### **Step4.判断用于建模的特征数据中是否存在多重共线性**"
   ]
  },
  {
   "cell_type": "markdown",
   "metadata": {},
   "source": [
    "#### **对数据进行标准化/中心化**"
   ]
  },
  {
   "cell_type": "markdown",
   "metadata": {},
   "source": [
    "首先对训练集和测试集的特征和标签分别进行标准化和中心化，使得标准化后的数据均值为 0 且 $\\mathbf{x}_i'\\mathbf{x}_i=1$："
   ]
  },
  {
   "cell_type": "code",
   "execution_count": 296,
   "metadata": {},
   "outputs": [
    {
     "data": {
      "text/html": [
       "<div>\n",
       "<style scoped>\n",
       "    .dataframe tbody tr th:only-of-type {\n",
       "        vertical-align: middle;\n",
       "    }\n",
       "\n",
       "    .dataframe tbody tr th {\n",
       "        vertical-align: top;\n",
       "    }\n",
       "\n",
       "    .dataframe thead th {\n",
       "        text-align: right;\n",
       "    }\n",
       "</style>\n",
       "<table border=\"1\" class=\"dataframe\">\n",
       "  <thead>\n",
       "    <tr style=\"text-align: right;\">\n",
       "      <th></th>\n",
       "      <th>age</th>\n",
       "      <th>sex</th>\n",
       "      <th>bmi</th>\n",
       "      <th>bp</th>\n",
       "      <th>s1</th>\n",
       "      <th>s2</th>\n",
       "      <th>s3</th>\n",
       "      <th>s4</th>\n",
       "      <th>s5</th>\n",
       "      <th>s6</th>\n",
       "      <th>...</th>\n",
       "      <th>s2_s3</th>\n",
       "      <th>s2_s4</th>\n",
       "      <th>s2_s5</th>\n",
       "      <th>s2_s6</th>\n",
       "      <th>s3_s4</th>\n",
       "      <th>s3_s5</th>\n",
       "      <th>s3_s6</th>\n",
       "      <th>s4_s5</th>\n",
       "      <th>s4_s6</th>\n",
       "      <th>s5_s6</th>\n",
       "    </tr>\n",
       "  </thead>\n",
       "  <tbody>\n",
       "    <tr>\n",
       "      <th>1</th>\n",
       "      <td>-0.001368</td>\n",
       "      <td>-0.050740</td>\n",
       "      <td>-0.058893</td>\n",
       "      <td>-0.029699</td>\n",
       "      <td>-0.007472</td>\n",
       "      <td>-0.020035</td>\n",
       "      <td>0.082440</td>\n",
       "      <td>-0.043419</td>\n",
       "      <td>-0.076595</td>\n",
       "      <td>-0.102630</td>\n",
       "      <td>...</td>\n",
       "      <td>-0.023487</td>\n",
       "      <td>-0.012830</td>\n",
       "      <td>0.014894</td>\n",
       "      <td>0.027210</td>\n",
       "      <td>-0.023156</td>\n",
       "      <td>-0.102527</td>\n",
       "      <td>-0.154394</td>\n",
       "      <td>0.027027</td>\n",
       "      <td>0.059986</td>\n",
       "      <td>0.115602</td>\n",
       "    </tr>\n",
       "    <tr>\n",
       "      <th>2</th>\n",
       "      <td>0.101456</td>\n",
       "      <td>0.059362</td>\n",
       "      <td>0.052928</td>\n",
       "      <td>-0.005679</td>\n",
       "      <td>-0.050743</td>\n",
       "      <td>-0.037686</td>\n",
       "      <td>-0.036587</td>\n",
       "      <td>-0.001727</td>\n",
       "      <td>0.004857</td>\n",
       "      <td>-0.027006</td>\n",
       "      <td>...</td>\n",
       "      <td>0.039516</td>\n",
       "      <td>-0.024763</td>\n",
       "      <td>-0.021647</td>\n",
       "      <td>0.005569</td>\n",
       "      <td>0.037906</td>\n",
       "      <td>0.021285</td>\n",
       "      <td>0.035513</td>\n",
       "      <td>-0.031775</td>\n",
       "      <td>-0.019209</td>\n",
       "      <td>-0.025317</td>\n",
       "    </tr>\n",
       "    <tr>\n",
       "      <th>3</th>\n",
       "      <td>-0.104191</td>\n",
       "      <td>-0.050740</td>\n",
       "      <td>-0.012405</td>\n",
       "      <td>-0.041709</td>\n",
       "      <td>0.016567</td>\n",
       "      <td>0.031817</td>\n",
       "      <td>-0.040692</td>\n",
       "      <td>0.039965</td>\n",
       "      <td>0.027540</td>\n",
       "      <td>-0.008100</td>\n",
       "      <td>...</td>\n",
       "      <td>-0.010417</td>\n",
       "      <td>-0.011034</td>\n",
       "      <td>-0.004385</td>\n",
       "      <td>-0.021981</td>\n",
       "      <td>0.011234</td>\n",
       "      <td>0.003303</td>\n",
       "      <td>0.023142</td>\n",
       "      <td>-0.014700</td>\n",
       "      <td>-0.027815</td>\n",
       "      <td>-0.028372</td>\n",
       "    </tr>\n",
       "    <tr>\n",
       "      <th>4</th>\n",
       "      <td>0.007201</td>\n",
       "      <td>-0.050740</td>\n",
       "      <td>-0.041303</td>\n",
       "      <td>0.026347</td>\n",
       "      <td>0.006951</td>\n",
       "      <td>0.020784</td>\n",
       "      <td>0.008561</td>\n",
       "      <td>-0.001727</td>\n",
       "      <td>-0.035014</td>\n",
       "      <td>-0.050639</td>\n",
       "      <td>...</td>\n",
       "      <td>0.015149</td>\n",
       "      <td>-0.027068</td>\n",
       "      <td>-0.032060</td>\n",
       "      <td>-0.034113</td>\n",
       "      <td>0.035785</td>\n",
       "      <td>0.017122</td>\n",
       "      <td>0.005455</td>\n",
       "      <td>-0.029812</td>\n",
       "      <td>-0.018019</td>\n",
       "      <td>0.009304</td>\n",
       "    </tr>\n",
       "    <tr>\n",
       "      <th>5</th>\n",
       "      <td>-0.108476</td>\n",
       "      <td>-0.050740</td>\n",
       "      <td>-0.046328</td>\n",
       "      <td>-0.021692</td>\n",
       "      <td>-0.077988</td>\n",
       "      <td>-0.090640</td>\n",
       "      <td>0.045501</td>\n",
       "      <td>-0.085110</td>\n",
       "      <td>-0.045527</td>\n",
       "      <td>-0.107356</td>\n",
       "      <td>...</td>\n",
       "      <td>-0.069434</td>\n",
       "      <td>0.081829</td>\n",
       "      <td>0.065664</td>\n",
       "      <td>0.171575</td>\n",
       "      <td>-0.027490</td>\n",
       "      <td>-0.018572</td>\n",
       "      <td>-0.083261</td>\n",
       "      <td>0.036740</td>\n",
       "      <td>0.142386</td>\n",
       "      <td>0.064022</td>\n",
       "    </tr>\n",
       "  </tbody>\n",
       "</table>\n",
       "<p>5 rows × 64 columns</p>\n",
       "</div>"
      ],
      "text/plain": [
       "        age       sex       bmi        bp        s1        s2        s3   \n",
       "1 -0.001368 -0.050740 -0.058893 -0.029699 -0.007472 -0.020035  0.082440  \\\n",
       "2  0.101456  0.059362  0.052928 -0.005679 -0.050743 -0.037686 -0.036587   \n",
       "3 -0.104191 -0.050740 -0.012405 -0.041709  0.016567  0.031817 -0.040692   \n",
       "4  0.007201 -0.050740 -0.041303  0.026347  0.006951  0.020784  0.008561   \n",
       "5 -0.108476 -0.050740 -0.046328 -0.021692 -0.077988 -0.090640  0.045501   \n",
       "\n",
       "         s4        s5        s6  ...     s2_s3     s2_s4     s2_s5     s2_s6   \n",
       "1 -0.043419 -0.076595 -0.102630  ... -0.023487 -0.012830  0.014894  0.027210  \\\n",
       "2 -0.001727  0.004857 -0.027006  ...  0.039516 -0.024763 -0.021647  0.005569   \n",
       "3  0.039965  0.027540 -0.008100  ... -0.010417 -0.011034 -0.004385 -0.021981   \n",
       "4 -0.001727 -0.035014 -0.050639  ...  0.015149 -0.027068 -0.032060 -0.034113   \n",
       "5 -0.085110 -0.045527 -0.107356  ... -0.069434  0.081829  0.065664  0.171575   \n",
       "\n",
       "      s3_s4     s3_s5     s3_s6     s4_s5     s4_s6     s5_s6  \n",
       "1 -0.023156 -0.102527 -0.154394  0.027027  0.059986  0.115602  \n",
       "2  0.037906  0.021285  0.035513 -0.031775 -0.019209 -0.025317  \n",
       "3  0.011234  0.003303  0.023142 -0.014700 -0.027815 -0.028372  \n",
       "4  0.035785  0.017122  0.005455 -0.029812 -0.018019  0.009304  \n",
       "5 -0.027490 -0.018572 -0.083261  0.036740  0.142386  0.064022  \n",
       "\n",
       "[5 rows x 64 columns]"
      ]
     },
     "execution_count": 296,
     "metadata": {},
     "output_type": "execute_result"
    }
   ],
   "source": [
    "mean = X_train.mean(axis=0)\n",
    "std = X_train.std(axis=0)\n",
    "X_train_scaled = (X_train - mean) / (std * np.sqrt(X_train.shape[0]-1))\n",
    "\n",
    "mean = y_train.mean(axis=0)\n",
    "y_train_center = (y_train - mean)\n",
    "\n",
    "X_train_scaled.head()"
   ]
  },
  {
   "cell_type": "code",
   "execution_count": 297,
   "metadata": {},
   "outputs": [
    {
     "data": {
      "text/html": [
       "<div>\n",
       "<style scoped>\n",
       "    .dataframe tbody tr th:only-of-type {\n",
       "        vertical-align: middle;\n",
       "    }\n",
       "\n",
       "    .dataframe tbody tr th {\n",
       "        vertical-align: top;\n",
       "    }\n",
       "\n",
       "    .dataframe thead th {\n",
       "        text-align: right;\n",
       "    }\n",
       "</style>\n",
       "<table border=\"1\" class=\"dataframe\">\n",
       "  <thead>\n",
       "    <tr style=\"text-align: right;\">\n",
       "      <th></th>\n",
       "      <th>age</th>\n",
       "      <th>sex</th>\n",
       "      <th>bmi</th>\n",
       "      <th>bp</th>\n",
       "      <th>s1</th>\n",
       "      <th>s2</th>\n",
       "      <th>s3</th>\n",
       "      <th>s4</th>\n",
       "      <th>s5</th>\n",
       "      <th>s6</th>\n",
       "      <th>...</th>\n",
       "      <th>s2_s3</th>\n",
       "      <th>s2_s4</th>\n",
       "      <th>s2_s5</th>\n",
       "      <th>s2_s6</th>\n",
       "      <th>s3_s4</th>\n",
       "      <th>s3_s5</th>\n",
       "      <th>s3_s6</th>\n",
       "      <th>s4_s5</th>\n",
       "      <th>s4_s6</th>\n",
       "      <th>s5_s6</th>\n",
       "    </tr>\n",
       "  </thead>\n",
       "  <tbody>\n",
       "    <tr>\n",
       "      <th>0</th>\n",
       "      <td>0.067786</td>\n",
       "      <td>0.097096</td>\n",
       "      <td>0.114719</td>\n",
       "      <td>0.038273</td>\n",
       "      <td>-0.099270</td>\n",
       "      <td>-0.079380</td>\n",
       "      <td>-0.095094</td>\n",
       "      <td>-0.012513</td>\n",
       "      <td>0.032556</td>\n",
       "      <td>-0.051583</td>\n",
       "      <td>...</td>\n",
       "      <td>0.081228</td>\n",
       "      <td>-0.048131</td>\n",
       "      <td>-0.056794</td>\n",
       "      <td>-0.001529</td>\n",
       "      <td>0.074147</td>\n",
       "      <td>-0.006068</td>\n",
       "      <td>0.078969</td>\n",
       "      <td>-0.055942</td>\n",
       "      <td>-0.039548</td>\n",
       "      <td>-0.060070</td>\n",
       "    </tr>\n",
       "    <tr>\n",
       "      <th>9</th>\n",
       "      <td>-0.138005</td>\n",
       "      <td>-0.093628</td>\n",
       "      <td>0.070574</td>\n",
       "      <td>-0.069850</td>\n",
       "      <td>-0.036887</td>\n",
       "      <td>-0.078776</td>\n",
       "      <td>-0.053419</td>\n",
       "      <td>-0.012513</td>\n",
       "      <td>0.131540</td>\n",
       "      <td>-0.042853</td>\n",
       "      <td>...</td>\n",
       "      <td>0.052627</td>\n",
       "      <td>-0.048158</td>\n",
       "      <td>-0.125135</td>\n",
       "      <td>-0.008030</td>\n",
       "      <td>0.071648</td>\n",
       "      <td>-0.051699</td>\n",
       "      <td>0.055483</td>\n",
       "      <td>-0.061371</td>\n",
       "      <td>-0.040006</td>\n",
       "      <td>-0.085272</td>\n",
       "    </tr>\n",
       "    <tr>\n",
       "      <th>12</th>\n",
       "      <td>0.026628</td>\n",
       "      <td>-0.093628</td>\n",
       "      <td>-0.061860</td>\n",
       "      <td>-0.022546</td>\n",
       "      <td>-0.020613</td>\n",
       "      <td>-0.031075</td>\n",
       "      <td>0.104944</td>\n",
       "      <td>-0.092077</td>\n",
       "      <td>-0.072276</td>\n",
       "      <td>-0.103959</td>\n",
       "      <td>...</td>\n",
       "      <td>-0.004749</td>\n",
       "      <td>-0.038359</td>\n",
       "      <td>-0.015497</td>\n",
       "      <td>-0.010255</td>\n",
       "      <td>-0.024723</td>\n",
       "      <td>-0.034604</td>\n",
       "      <td>-0.067783</td>\n",
       "      <td>-0.000504</td>\n",
       "      <td>0.030058</td>\n",
       "      <td>0.014093</td>\n",
       "    </tr>\n",
       "    <tr>\n",
       "      <th>28</th>\n",
       "      <td>0.095225</td>\n",
       "      <td>-0.093628</td>\n",
       "      <td>-0.047145</td>\n",
       "      <td>-0.150943</td>\n",
       "      <td>-0.091133</td>\n",
       "      <td>-0.084814</td>\n",
       "      <td>-0.011745</td>\n",
       "      <td>-0.092077</td>\n",
       "      <td>-0.009909</td>\n",
       "      <td>-0.130147</td>\n",
       "      <td>...</td>\n",
       "      <td>0.025535</td>\n",
       "      <td>-0.001962</td>\n",
       "      <td>-0.027025</td>\n",
       "      <td>0.062086</td>\n",
       "      <td>0.081872</td>\n",
       "      <td>0.041715</td>\n",
       "      <td>0.056807</td>\n",
       "      <td>-0.052624</td>\n",
       "      <td>0.050981</td>\n",
       "      <td>-0.042854</td>\n",
       "    </tr>\n",
       "    <tr>\n",
       "      <th>29</th>\n",
       "      <td>0.122664</td>\n",
       "      <td>0.097096</td>\n",
       "      <td>-0.017715</td>\n",
       "      <td>0.119366</td>\n",
       "      <td>-0.096557</td>\n",
       "      <td>-0.197125</td>\n",
       "      <td>0.121614</td>\n",
       "      <td>-0.171641</td>\n",
       "      <td>0.114335</td>\n",
       "      <td>0.096816</td>\n",
       "      <td>...</td>\n",
       "      <td>-0.206535</td>\n",
       "      <td>0.191102</td>\n",
       "      <td>-0.264805</td>\n",
       "      <td>-0.249981</td>\n",
       "      <td>-0.141056</td>\n",
       "      <td>0.212645</td>\n",
       "      <td>0.188361</td>\n",
       "      <td>-0.252482</td>\n",
       "      <td>-0.213366</td>\n",
       "      <td>0.095905</td>\n",
       "    </tr>\n",
       "  </tbody>\n",
       "</table>\n",
       "<p>5 rows × 64 columns</p>\n",
       "</div>"
      ],
      "text/plain": [
       "         age       sex       bmi        bp        s1        s2        s3   \n",
       "0   0.067786  0.097096  0.114719  0.038273 -0.099270 -0.079380 -0.095094  \\\n",
       "9  -0.138005 -0.093628  0.070574 -0.069850 -0.036887 -0.078776 -0.053419   \n",
       "12  0.026628 -0.093628 -0.061860 -0.022546 -0.020613 -0.031075  0.104944   \n",
       "28  0.095225 -0.093628 -0.047145 -0.150943 -0.091133 -0.084814 -0.011745   \n",
       "29  0.122664  0.097096 -0.017715  0.119366 -0.096557 -0.197125  0.121614   \n",
       "\n",
       "          s4        s5        s6  ...     s2_s3     s2_s4     s2_s5     s2_s6   \n",
       "0  -0.012513  0.032556 -0.051583  ...  0.081228 -0.048131 -0.056794 -0.001529  \\\n",
       "9  -0.012513  0.131540 -0.042853  ...  0.052627 -0.048158 -0.125135 -0.008030   \n",
       "12 -0.092077 -0.072276 -0.103959  ... -0.004749 -0.038359 -0.015497 -0.010255   \n",
       "28 -0.092077 -0.009909 -0.130147  ...  0.025535 -0.001962 -0.027025  0.062086   \n",
       "29 -0.171641  0.114335  0.096816  ... -0.206535  0.191102 -0.264805 -0.249981   \n",
       "\n",
       "       s3_s4     s3_s5     s3_s6     s4_s5     s4_s6     s5_s6  \n",
       "0   0.074147 -0.006068  0.078969 -0.055942 -0.039548 -0.060070  \n",
       "9   0.071648 -0.051699  0.055483 -0.061371 -0.040006 -0.085272  \n",
       "12 -0.024723 -0.034604 -0.067783 -0.000504  0.030058  0.014093  \n",
       "28  0.081872  0.041715  0.056807 -0.052624  0.050981 -0.042854  \n",
       "29 -0.141056  0.212645  0.188361 -0.252482 -0.213366  0.095905  \n",
       "\n",
       "[5 rows x 64 columns]"
      ]
     },
     "execution_count": 297,
     "metadata": {},
     "output_type": "execute_result"
    }
   ],
   "source": [
    "mean = X_test.mean(axis=0)\n",
    "std = X_test.std(axis=0)\n",
    "X_test_scaled = (X_test - mean) / (std * np.sqrt(X_test.shape[0]-1))\n",
    "\n",
    "mean = y_test.mean(axis=0)\n",
    "y_test_center = (y_test - mean)\n",
    "\n",
    "X_test_scaled.head()"
   ]
  },
  {
   "cell_type": "markdown",
   "metadata": {},
   "source": [
    "#### **绘制热力图**\n",
    "\n",
    "首先，我们可以通过绘图来直观感受特征之间的相关性。"
   ]
  },
  {
   "cell_type": "code",
   "execution_count": 263,
   "metadata": {},
   "outputs": [
    {
     "data": {
      "image/png": "[encoded data removed]",
      "text/plain": [
       "<Figure size 640x480 with 2 Axes>"
      ]
     },
     "metadata": {},
     "output_type": "display_data"
    }
   ],
   "source": [
    "pcorr = X_train_scaled.corr(method = 'pearson')\n",
    "tick_ = (np.arange(0,13,2)-2)/10\n",
    "dict_ = {\"orientation\":'vertical',\n",
    "         'label':'Correlation Coefficients',\n",
    "         \"drawedges\":False,\n",
    "         \"ticklocation\":\"top\",\n",
    "         \"extend\":\"min\",\n",
    "         \"alpha\":0.8,\n",
    "         \"cmap\":\"cmap\",\n",
    "         \"ticks\":tick_}\n",
    "sns.heatmap(pcorr,cbar_kws= dict_,center=0)\n",
    "\n",
    "plt.savefig(\"./Fig_heatmap.pdf\",dpi=400)"
   ]
  },
  {
   "cell_type": "markdown",
   "metadata": {},
   "source": [
    "颜色越浅的特征之间的相关性越强，而颜色越深的特征之间的相关性越弱。由于特征数量过多，我们无法分辨出具体关系，但由图中浅色方块的分布区域可以推测，部分相邻变量可能出现多重共线性。"
   ]
  },
  {
   "cell_type": "markdown",
   "metadata": {},
   "source": [
    "#### **方差扩大因子法**"
   ]
  },
  {
   "cell_type": "markdown",
   "metadata": {},
   "source": [
    "##### **定义**\n",
    "假定特征数据已经经过标准化，现数据有\n",
    "$$\n",
    "X = \\begin{pmatrix}\n",
    "x_{11} & x_{12} & \\cdots & x_{1p}\\\\\n",
    "x_{21} & x_{22} & \\cdots & x_{2p}\\\\\n",
    "\\vdots & \\vdots &  & \\vdots \\\\\n",
    "x_{n1} & x_{n2} & \\cdots & x_{np}\\\\\n",
    "\\end{pmatrix}\n",
    "$$\n",
    "于是样本相关矩阵定义为\n",
    "$$\\mathbf{R}=\\mathbf{X}'\\mathbf{X}$$\n",
    "这个样本相关矩阵的逆矩阵记为\n",
    "$$(\\mathbf{X}'\\mathbf{X})^{-1}$$\n",
    "我们称方阵 $(\\mathbf{X}'\\mathbf{X})^{-1}$ 主对角线元素 $\\text{VIF}_j$ 为第 $j$ 个自变量的方差扩大因子。\n",
    "\n",
    "##### **基本思想**\n",
    "$\\text{VIF}_j$ 越大，自变量 $x_j$ 与其他自变量之间的多重共线性程度越严重。\n",
    "\n",
    "##### **判断标准**\n",
    "- 当 $\\text{VIF}_j<c_{\\text{VIF}}$ 时， 自变量 $x_j$ 与其余自变量之间不存在多重共线性；\n",
    "- 当 $\\text{VIF}_j>c_{\\text{VIF}}$ 时， 自变量 $x_j$ 与其余自变量之间存在多重共线性。"
   ]
  },
  {
   "cell_type": "markdown",
   "metadata": {},
   "source": [
    "在本次实验中，我们将临界值 $c_{\\text{VIF}}$ 设定为 5："
   ]
  },
  {
   "cell_type": "code",
   "execution_count": 283,
   "metadata": {},
   "outputs": [],
   "source": [
    "vif_cv = 5"
   ]
  },
  {
   "cell_type": "markdown",
   "metadata": {},
   "source": [
    "- ##### **法一：矩阵计算**"
   ]
  },
  {
   "cell_type": "code",
   "execution_count": 272,
   "metadata": {},
   "outputs": [
    {
     "name": "stdout",
     "output_type": "stream",
     "text": [
      "The VIF's are [1.57000000e+00 1.57000000e+00 2.79000000e+00 1.84000000e+00\n",
      " 1.07212564e+07 8.14427007e+06 1.63478296e+06 2.89100000e+01\n",
      " 1.20109725e+06 1.78000000e+00 1.72000000e+00 2.64000000e+00\n",
      " 2.20000000e+00 8.65510500e+04 5.79035200e+04 3.02165000e+03\n",
      " 1.51420000e+02 8.33567000e+03 3.03000000e+00 2.09000000e+00\n",
      " 2.23000000e+00 2.12000000e+00 1.30920000e+02 8.33800000e+01\n",
      " 3.05000000e+01 1.64900000e+01 2.13100000e+01 2.25000000e+00\n",
      " 2.19000000e+00 2.08000000e+00 1.27220000e+02 7.84200000e+01\n",
      " 3.01600000e+01 1.58600000e+01 1.95800000e+01 2.01000000e+00\n",
      " 2.72000000e+00 1.75730000e+02 1.28050000e+02 3.93300000e+01\n",
      " 1.78600000e+01 2.46200000e+01 2.95000000e+00 1.54910000e+02\n",
      " 1.07070000e+02 3.52600000e+01 1.41800000e+01 2.75100000e+01\n",
      " 3.13000000e+00 2.64231020e+05 2.01022500e+04 9.96270000e+02\n",
      " 4.90535390e+05 1.32830000e+02 1.63680400e+04 6.94500000e+02\n",
      " 3.22731830e+05 1.00690000e+02 3.97990000e+02 6.44041900e+04\n",
      " 3.42300000e+01 1.32180000e+02 2.04300000e+01 3.03600000e+01]\n"
     ]
    }
   ],
   "source": [
    "C = np.linalg.inv(np.dot(X_train_scaled.T,X_train_scaled))\n",
    "VIF_1 = np.diag(C)\n",
    "print(\"The VIF's are\", np.round(VIF_1,2))"
   ]
  },
  {
   "cell_type": "markdown",
   "metadata": {},
   "source": [
    "统计 $\\text{VIF}$ 中大于临界值的个数："
   ]
  },
  {
   "cell_type": "code",
   "execution_count": null,
   "metadata": {},
   "outputs": [
    {
     "name": "stdout",
     "output_type": "stream",
     "text": [
      "Number of VIF values greater than 5 is 45\n"
     ]
    }
   ],
   "source": [
    "count = np.sum(VIF_1 > vif_cv)\n",
    "print(\"Number of VIF values greater than 5 is\", count)"
   ]
  },
  {
   "cell_type": "markdown",
   "metadata": {},
   "source": [
    "- ##### **法二：使用 statsmodel 包**"
   ]
  },
  {
   "cell_type": "code",
   "execution_count": 273,
   "metadata": {},
   "outputs": [
    {
     "name": "stdout",
     "output_type": "stream",
     "text": [
      "The VIF's are [1.57000000e+00 1.57000000e+00 2.79000000e+00 1.84000000e+00\n",
      " 1.07212563e+07 8.14426996e+06 1.63478294e+06 2.89100000e+01\n",
      " 1.20109723e+06 1.78000000e+00 1.72000000e+00 2.64000000e+00\n",
      " 2.20000000e+00 8.65510500e+04 5.79035100e+04 3.02165000e+03\n",
      " 1.51420000e+02 8.33567000e+03 3.03000000e+00 2.09000000e+00\n",
      " 2.23000000e+00 2.12000000e+00 1.30920000e+02 8.33800000e+01\n",
      " 3.05000000e+01 1.64900000e+01 2.13100000e+01 2.25000000e+00\n",
      " 2.19000000e+00 2.08000000e+00 1.27220000e+02 7.84200000e+01\n",
      " 3.01600000e+01 1.58600000e+01 1.95800000e+01 2.01000000e+00\n",
      " 2.72000000e+00 1.75730000e+02 1.28050000e+02 3.93300000e+01\n",
      " 1.78600000e+01 2.46200000e+01 2.95000000e+00 1.54910000e+02\n",
      " 1.07070000e+02 3.52600000e+01 1.41800000e+01 2.75100000e+01\n",
      " 3.13000000e+00 2.64231010e+05 2.01022500e+04 9.96270000e+02\n",
      " 4.90535380e+05 1.32830000e+02 1.63680400e+04 6.94500000e+02\n",
      " 3.22731830e+05 1.00690000e+02 3.97990000e+02 6.44041900e+04\n",
      " 3.42300000e+01 1.32180000e+02 2.04300000e+01 3.03600000e+01]\n"
     ]
    }
   ],
   "source": [
    "VIF_2 = [variance_inflation_factor(X_train_scaled.iloc[:,0:p], i) for i in range(p)]\n",
    "print(\"The VIF's are\", np.round(VIF_2,2))"
   ]
  },
  {
   "cell_type": "markdown",
   "metadata": {},
   "source": [
    "法一法二计算的结果相同。"
   ]
  },
  {
   "cell_type": "markdown",
   "metadata": {},
   "source": [
    "- ##### **法三：使用回归系数计算**\n",
    "    以$x_j$作为响应变量，其他特征$x_1,x_2,\\cdots,x_{j-1},x_{j+1},\\cdots,x_{p}$作为自变量，构建线性回归模型即\n",
    "    $$\n",
    "    x_j = \\alpha_0 + \\alpha_1 x_1 + \\alpha_2 x_2 + \\cdots +\\alpha_{j-1}x_{j-1} + \\alpha_{j+1}x_{j+1} + \\cdots + \\alpha_p x_p +\\epsilon\n",
    "    $$\n",
    "    如果这个特征能够被其他特征近似看作其他特征的线性组合，那么我们称这个现象为**多重共线性**。基于这个想法，如果上述回归模型的决定系数$R^2$很接近于1，那么这个特征很有可能看作其他特征的线性组合。因此，多重共线性VIF还有一种计算方法，即\n",
    "    $$\\text{VIF}_j=\\frac{1}{1-R_j^2}$$"
   ]
  },
  {
   "cell_type": "markdown",
   "metadata": {},
   "source": [
    "使用上述公式计算各特征的 $\\text{VIF}$ 并输出最大值："
   ]
  },
  {
   "cell_type": "code",
   "execution_count": 276,
   "metadata": {},
   "outputs": [
    {
     "name": "stdout",
     "output_type": "stream",
     "text": [
      "The max VIF is 10721256.29959233 of 5 th feature\n"
     ]
    }
   ],
   "source": [
    "max_VIF = 0\n",
    "j = 0\n",
    "for i in range(p):\n",
    "    X = X_train_scaled.iloc[:, i]\n",
    "    X_others = X_train_scaled.iloc[:, np.delete(np.arange(p), i)]\n",
    "    model_vif = sm.OLS(X, sm.add_constant(X_others)).fit()\n",
    "    vif = 1 / (1 - model_vif.rsquared)\n",
    "\n",
    "    if vif > max_VIF :\n",
    "        max_VIF = vif\n",
    "        j = i\n",
    "\n",
    "print(\"The max VIF is\",max_VIF,\"of\",j+1,\"th feature\")"
   ]
  },
  {
   "cell_type": "markdown",
   "metadata": {},
   "source": [
    "可以看到第五个特征的方差扩大因子超级大，说明存在严重的多重共线性。"
   ]
  },
  {
   "cell_type": "markdown",
   "metadata": {},
   "source": [
    "#### **特征值法**"
   ]
  },
  {
   "cell_type": "markdown",
   "metadata": {},
   "source": [
    "##### **概述**\n",
    "当行列式 $|\\mathbf{X}_s'\\mathbf{X}_s|\\approx0$ 时，矩阵 $\\mathbf{X}_s'\\mathbf{X}_s$ 至少存在一个特征值近似为零。反之，当矩阵 $\\mathbf{X}_s'\\mathbf{X}_s$ 至少存在一个特征值为零时， $\\mathbf{X}_s$ 的列向量间必然存在多重共线性。\n",
    "\n",
    "##### **判定方法**\n",
    "假设 $\\mathbf{X}_s'\\mathbf{X}_s$ 的特征值分别为 $\\lambda_1\\ge\\cdots\\ge\\lambda_p$，称\n",
    "$$\n",
    "\\kappa_j = \\sqrt{\\frac{\\lambda_1}{\\lambda_j}},j=1,2,\\cdots,p\n",
    "$$\n",
    "为特征值 $\\lambda_j$ 的条件数。\n",
    "- 如果设计矩阵 $\\mathbf{X}_s$ 没有多重共线性，即最小特征值 $\\lambda_p$ 不会接近零，那么条件数 $\\kappa_j$ 不会特别大；\n",
    "- 如果设计矩阵 $\\mathbf{X}_s$ 存在多重共线性，即最小特征值 $\\lambda_p$ 接近零，那么条件数 $\\kappa_j$ 会特别大。\n",
    "\n",
    "常用的判断标准\n",
    "- $0<\\kappa_j<c_k$ 时，设计矩阵 $\\mathbf{X}_s$ 没有多重共线性；\n",
    "- $\\kappa_j\\ge c_k$ 时，设计矩阵 $\\mathbf{X}_s$ 存在多重共线性。\n",
    "\n",
    "临界值 $c_k$ 的常见取值有 $10,100,1000$。"
   ]
  },
  {
   "cell_type": "markdown",
   "metadata": {},
   "source": [
    "此处临界值 $c_k$ 取 10："
   ]
  },
  {
   "cell_type": "code",
   "execution_count": 288,
   "metadata": {},
   "outputs": [],
   "source": [
    "c_k = 10"
   ]
  },
  {
   "cell_type": "markdown",
   "metadata": {},
   "source": [
    "- ##### **法一：根据公式计算**"
   ]
  },
  {
   "cell_type": "code",
   "execution_count": 289,
   "metadata": {},
   "outputs": [
    {
     "name": "stdout",
     "output_type": "stream",
     "text": [
      "The eigen values are [1.0565e+01 6.0232e+00 5.1814e+00 4.3221e+00 3.1021e+00 2.9543e+00\n",
      " 2.6052e+00 2.4767e+00 2.1426e+00 1.9491e+00 1.7006e+00 1.6295e+00\n",
      " 1.4848e+00 1.1843e+00 1.1586e+00 1.0413e+00 9.9250e-01 9.6160e-01\n",
      " 8.8580e-01 8.2390e-01 7.6160e-01 7.1640e-01 7.0840e-01 6.6350e-01\n",
      " 6.5070e-01 6.1310e-01 5.7510e-01 5.2150e-01 5.0910e-01 4.9940e-01\n",
      " 4.4580e-01 4.2330e-01 4.2080e-01 3.7790e-01 3.4910e-01 3.3320e-01\n",
      " 2.8080e-01 2.7050e-01 2.6010e-01 2.2970e-01 2.2370e-01 2.1250e-01\n",
      " 1.8280e-01 1.4550e-01 9.6100e-02 7.6300e-02 5.2900e-02 4.8200e-02\n",
      " 4.0400e-02 3.1700e-02 2.3700e-02 2.1200e-02 1.5400e-02 9.6000e-03\n",
      " 6.2000e-03 4.6000e-03 3.5000e-03 3.2000e-03 2.8000e-03 2.5000e-03\n",
      " 1.9000e-03 4.0000e-04 0.0000e+00 0.0000e+00]\n"
     ]
    }
   ],
   "source": [
    "R = np.dot(X_train_scaled.T,X_train_scaled)\n",
    "W, V = np.linalg.eig(R)\n",
    "W = -1* np.sort(-1*W)\n",
    "W_diag = np.diag(W)\n",
    "V = V.T\n",
    "print(\"The eigen values are\", np.round(W,4))"
   ]
  },
  {
   "cell_type": "markdown",
   "metadata": {},
   "source": [
    "注意！`np.linalg.eig` 函数所输出特征值并不是按从大到小的顺序进行排列的。\n",
    "\n",
    "基于所计算的特征值计算条件数："
   ]
  },
  {
   "cell_type": "code",
   "execution_count": 292,
   "metadata": {},
   "outputs": [
    {
     "name": "stdout",
     "output_type": "stream",
     "text": [
      "The condition number is 15588.2107\n",
      "存在多重共线性！\n"
     ]
    }
   ],
   "source": [
    "Condition_Number = np.sqrt(np.max(W)/np.min(W))\n",
    "print(\"The condition number is\",np.round(Condition_Number,4))\n",
    "if Condition_Number > c_k:\n",
    "    print(\"存在多重共线性！\")"
   ]
  },
  {
   "cell_type": "markdown",
   "metadata": {},
   "source": [
    "- ##### **法二：拟合模型直接得到条件数**"
   ]
  },
  {
   "cell_type": "code",
   "execution_count": null,
   "metadata": {},
   "outputs": [
    {
     "name": "stdout",
     "output_type": "stream",
     "text": [
      "The condition number is 15588.2106\n"
     ]
    }
   ],
   "source": [
    "model_ols = sm.OLS(y_train_center,X_train_scaled).fit()\n",
    "print(\"The condition number is\",round(model_ols.condition_number,4))"
   ]
  },
  {
   "cell_type": "markdown",
   "metadata": {},
   "source": [
    "#### **综上所述，**\n",
    "用于建模的数据存在严重的多重共线性。"
   ]
  },
  {
   "cell_type": "markdown",
   "metadata": {},
   "source": [
    "### **Step5.模型构建**"
   ]
  },
  {
   "cell_type": "markdown",
   "metadata": {},
   "source": [
    "#### **Model_1：线性回归模型**"
   ]
  },
  {
   "cell_type": "markdown",
   "metadata": {},
   "source": [
    "直接通过 `statsmodels` 库中的用于执行普通最小二乘回归的函数 `OLS`构造模型，并生成回归分析的详细报告："
   ]
  },
  {
   "cell_type": "code",
   "execution_count": 310,
   "metadata": {},
   "outputs": [
    {
     "name": "stdout",
     "output_type": "stream",
     "text": [
      "                                 OLS Regression Results                                \n",
      "=======================================================================================\n",
      "Dep. Variable:                      y   R-squared (uncentered):                   0.627\n",
      "Model:                            OLS   Adj. R-squared (uncentered):              0.537\n",
      "Method:                 Least Squares   F-statistic:                              7.026\n",
      "Date:                Tue, 05 Nov 2024   Prob (F-statistic):                    9.21e-31\n",
      "Time:                        19:00:52   Log-Likelihood:                         -1748.5\n",
      "No. Observations:                 332   AIC:                                      3625.\n",
      "Df Residuals:                     268   BIC:                                      3868.\n",
      "Df Model:                          64                                                  \n",
      "Covariance Type:            nonrobust                                                  \n",
      "==============================================================================\n",
      "                 coef    std err          t      P>|t|      [0.025      0.975]\n",
      "------------------------------------------------------------------------------\n",
      "age           67.3809     65.462      1.029      0.304     -61.505     196.267\n",
      "sex         -248.1862     65.430     -3.793      0.000    -377.008    -119.364\n",
      "bmi          422.4227     87.120      4.849      0.000     250.896     593.949\n",
      "bp           221.6875     70.688      3.136      0.002      82.512     360.863\n",
      "s1          8.443e+04   1.71e+05      0.494      0.622   -2.52e+05    4.21e+05\n",
      "s2         -7.368e+04   1.49e+05     -0.495      0.621   -3.67e+05    2.19e+05\n",
      "s3          -3.32e+04   6.67e+04     -0.498      0.619   -1.65e+05    9.81e+04\n",
      "s4            96.6053    280.521      0.344      0.731    -455.701     648.911\n",
      "s5          -2.77e+04   5.72e+04     -0.484      0.629    -1.4e+05    8.49e+04\n",
      "s6            87.4102     69.554      1.257      0.210     -49.532     224.353\n",
      "age^2         70.1908     68.353      1.027      0.305     -64.387     204.769\n",
      "bmi^2         11.0914     84.842      0.131      0.896    -155.950     178.133\n",
      "bp^2         -58.6748     77.420     -0.758      0.449    -211.105      93.755\n",
      "s1^2        1.931e+04   1.53e+04      1.258      0.209   -1.09e+04    4.95e+04\n",
      "s2^2        1.273e+04   1.26e+04      1.014      0.312    -1.2e+04    3.74e+04\n",
      "s3^2        4568.1353   2868.068      1.593      0.112   -1078.675    1.02e+04\n",
      "s4^2        1194.4650    642.042      1.860      0.064     -69.623    2458.553\n",
      "s5^2        -278.6111   4763.625     -0.058      0.953   -9657.498    9100.276\n",
      "s6^2         116.5929     90.787      1.284      0.200     -62.154     295.340\n",
      "age_sex      118.0549     75.365      1.566      0.118     -30.327     266.437\n",
      "age_bmi      -53.9657     77.865     -0.693      0.489    -207.270      99.339\n",
      "age_bp       -15.9746     75.985     -0.210      0.834    -165.578     133.629\n",
      "age_s1      -250.9085    596.998     -0.420      0.675   -1426.311     924.494\n",
      "age_s2        67.9685    476.416      0.143      0.887    -870.026    1005.963\n",
      "age_s3       184.4747    288.168      0.640      0.523    -382.886     751.835\n",
      "age_s4       112.5304    211.873      0.531      0.596    -304.617     529.678\n",
      "age_s5       199.0665    240.854      0.827      0.409    -275.141     673.274\n",
      "age_s6       108.7839     78.298      1.389      0.166     -45.374     262.941\n",
      "sex_bmi       67.2697     77.187      0.872      0.384     -84.700     219.240\n",
      "sex_bp       102.0786     75.285      1.356      0.176     -46.146     250.304\n",
      "sex_s1      1054.0595    588.491      1.791      0.074    -104.594    2212.713\n",
      "sex_s2      -823.0872    462.054     -1.781      0.076   -1732.804      86.630\n",
      "sex_s3      -369.4772    286.533     -1.289      0.198    -933.619     194.665\n",
      "sex_s4      -107.0029    207.770     -0.515      0.607    -516.072     302.066\n",
      "sex_s5      -379.3489    230.874     -1.643      0.102    -833.906      75.208\n",
      "sex_s6       -26.5099     74.047     -0.358      0.721    -172.297     119.277\n",
      "bmi_bp       152.6665     86.092      1.773      0.077     -16.836     322.169\n",
      "bmi_s1      -104.2724    691.648     -0.151      0.880   -1466.026    1257.481\n",
      "bmi_s2       178.0457    590.419      0.302      0.763    -984.403    1340.494\n",
      "bmi_s3      -123.2082    327.226     -0.377      0.707    -767.468     521.052\n",
      "bmi_s4      -196.8515    220.514     -0.893      0.373    -631.011     237.308\n",
      "bmi_s5        -6.9638    258.883     -0.027      0.979    -516.667     502.739\n",
      "bmi_s6        40.0027     89.641      0.446      0.656    -136.488     216.494\n",
      "bp_s1       -145.5105    649.387     -0.224      0.823   -1424.060    1133.039\n",
      "bp_s2         85.5962    539.888      0.159      0.874    -977.365    1148.557\n",
      "bp_s3        115.1913    309.822      0.372      0.710    -494.804     725.186\n",
      "bp_s4          5.2998    196.458      0.027      0.978    -381.497     392.097\n",
      "bp_s5        127.8576    273.676      0.467      0.641    -410.971     666.686\n",
      "bp_s6        -16.4530     92.244     -0.178      0.859    -198.069     165.163\n",
      "s1_s2      -3.024e+04   2.68e+04     -1.128      0.260    -8.3e+04    2.26e+04\n",
      "s1_s3      -1.053e+04   7397.580     -1.424      0.156   -2.51e+04    4030.469\n",
      "s1_s4      -3373.8117   1646.859     -2.049      0.041   -6616.239    -131.385\n",
      "s1_s5      -2.547e+04   3.65e+04     -0.697      0.486   -9.74e+04    4.65e+04\n",
      "s1_s6        273.0433    601.336      0.454      0.650    -910.900    1456.986\n",
      "s2_s3       8499.2523   6675.221      1.273      0.204   -4643.290    2.16e+04\n",
      "s2_s4       2144.9937   1375.000      1.560      0.120    -562.182    4852.170\n",
      "s2_s5       2.019e+04   2.96e+04      0.681      0.496   -3.82e+04    7.85e+04\n",
      "s2_s6       -304.1566    523.545     -0.581      0.562   -1334.941     726.628\n",
      "s3_s4       2010.2832   1040.886      1.931      0.054     -39.071    4059.637\n",
      "s3_s5       9458.1388   1.32e+04      0.714      0.476   -1.66e+04    3.55e+04\n",
      "s3_s6         -9.2500    305.282     -0.030      0.976    -610.306     591.806\n",
      "s4_s5        508.3236    599.871      0.847      0.398    -672.735    1689.382\n",
      "s4_s6        256.8602    235.859      1.089      0.277    -207.512     721.233\n",
      "s5_s6       -255.9443    287.498     -0.890      0.374    -821.986     310.098\n",
      "==============================================================================\n",
      "Omnibus:                        5.197   Durbin-Watson:                   2.076\n",
      "Prob(Omnibus):                  0.074   Jarque-Bera (JB):                5.091\n",
      "Skew:                           0.303   Prob(JB):                       0.0784\n",
      "Kurtosis:                       3.042   Cond. No.                     1.56e+04\n",
      "==============================================================================\n",
      "\n",
      "Notes:\n",
      "[1] R² is computed without centering (uncentered) since the model does not contain a constant.\n",
      "[2] Standard Errors assume that the covariance matrix of the errors is correctly specified.\n",
      "[3] The condition number is large, 1.56e+04. This might indicate that there are\n",
      "strong multicollinearity or other numerical problems.\n"
     ]
    }
   ],
   "source": [
    "# 因为对特征进行了标准化、对标签进行了中心化，消除了截距项的影响，因此不用添加截距项\n",
    "model_1 = sm.OLS(y_train_center,X_train_scaled).fit()\n",
    "print(model_1.summary())"
   ]
  },
  {
   "cell_type": "code",
   "execution_count": 330,
   "metadata": {},
   "outputs": [
    {
     "data": {
      "text/plain": [
       "age         67.380944\n",
       "sex       -248.186192\n",
       "bmi        422.422703\n",
       "bp         221.687472\n",
       "s1       84433.995344\n",
       "             ...     \n",
       "s3_s5     9458.138768\n",
       "s3_s6       -9.249951\n",
       "s4_s5      508.323644\n",
       "s4_s6      256.860195\n",
       "s5_s6     -255.944259\n",
       "Length: 64, dtype: float64"
      ]
     },
     "execution_count": 330,
     "metadata": {},
     "output_type": "execute_result"
    }
   ],
   "source": [
    "model_1_coef = model_1.params\n",
    "model_1_coef"
   ]
  },
  {
   "cell_type": "markdown",
   "metadata": {},
   "source": [
    "#### **Model_2：岭回归模型**"
   ]
  },
  {
   "cell_type": "markdown",
   "metadata": {},
   "source": [
    "当设计矩阵 $X$ 存在多重共线性时 $|\\mathbf{X}'\\mathbf{X}|\\approx0$，导致 $(\\mathbf{X}'\\mathbf{X})^{-1}$ 计算不稳定，回归系数的最小二乘估计效果明显变差。因此，我们采用\n",
    "$$\n",
    "\\mathbf{X}'\\mathbf{X}+k\\mathbf{I},\\quad k>0\n",
    "$$\n",
    "代替 $\\mathbf{X}'\\mathbf{X}$，称\n",
    "$$\n",
    "\\hat{\\beta}(k) = (\\mathbf{X}'\\mathbf{X}+k\\mathbf{I})^{-1}\\mathbf{X}'\\mathbf{y}\n",
    "$$\n",
    "为回归系数 $\\beta$ 的岭回归估计，其中，称 $k$ 为岭参数。"
   ]
  },
  {
   "cell_type": "markdown",
   "metadata": {},
   "source": [
    "岭回归估计 $\\hat{\\beta}(k)$ 是最小化带有 $L_2$ 正则项的离差平方和的解，即\n",
    "$$\n",
    "\\hat{\\beta}(k) = \\arg \\min_{\\beta}(\\mathbf{y}-\\mathbf{X\\beta})'(\\mathbf{y}-\\mathbf{X\\beta})+\\lambda\\mathbf{\\beta}'\\mathbf{\\beta}\n",
    "$$\n",
    "等价于最小化\n",
    "$$\n",
    "(\\mathbf{y}-\\mathbf{X\\beta})'(\\mathbf{y}-\\mathbf{X\\beta})\\quad \\text{s.t.}\\quad \\mathbf{\\beta}'\\mathbf{\\beta}\\le s\n",
    "$$"
   ]
  },
  {
   "cell_type": "markdown",
   "metadata": {},
   "source": [
    "- ##### **法一：使用 statmodels 包**"
   ]
  },
  {
   "cell_type": "markdown",
   "metadata": {},
   "source": [
    "我们可以使用 statmodels.api 包中 OLS.fit_regularized 来实现，这是因为这个函数本身是为了解决Elastic Net问题。在Elastic Net中，最优化问题是\n",
    "$$\n",
    "0.5* RSS/n +\\alpha *((1-L1_{wt})*|\\mathbf{\\beta}|_2^2/2 + L1_{wt} * |\\mathbf{\\beta}|_1)\n",
    "$$\n",
    "其中，\n",
    "- RSS：原本的偏差平方和；\n",
    "- n：样本量；\n",
    "- $|\\cdot|_1,|\\cdot|_2$：$L_1$和$L_2$范数。\n",
    "\n",
    "当 $L1_{wt}=0$ 时，它执行 Ridge 回归（即仅使用L2正则化）"
   ]
  },
  {
   "cell_type": "code",
   "execution_count": null,
   "metadata": {},
   "outputs": [
    {
     "name": "stdout",
     "output_type": "stream",
     "text": [
      "The parameters in the ridge regression are  [  6.53   0.7   22.02  15.62   7.57   6.78 -14.88  16.43  21.05  13.02\n",
      "   0.33  10.45   5.19   1.02  -0.72  -3.71   3.87   0.94   4.29   2.64\n",
      "  -3.11   2.62  -3.3   -4.84  -2.92   0.74   2.75   2.     1.23   1.76\n",
      "  -1.28  -3.6    2.87  -1.1    0.65   0.76   5.04  -5.48  -5.87  -2.97\n",
      "   1.24   1.12   4.19  -3.    -5.6    0.16  -1.16   2.73   1.82   0.\n",
      "   0.88   0.     0.31   0.22   4.4   -1.54  -2.82  -0.79  -0.32   0.55\n",
      "  -3.14   1.64   4.94   2.11]\n"
     ]
    }
   ],
   "source": [
    "## Ridge Regression\n",
    "alpha  = 0.1 # A hyperparameter in Ridge Regression (equivalently but not equally, k in slides)\n",
    "model_rr = sm.OLS(y_train_center,X_train_scaled).fit_regularized(L1_wt=0,alpha = alpha)\n",
    "print(\"The parameters in the ridge regression are \",np.round(model_rr.params,2))"
   ]
  },
  {
   "cell_type": "markdown",
   "metadata": {},
   "source": [
    "遍历不同的超参数 $\\alpha$ 的取值，得到不同 $\\alpha$ 下的参数："
   ]
  },
  {
   "cell_type": "code",
   "execution_count": null,
   "metadata": {},
   "outputs": [],
   "source": [
    "# 创建了一个从 0 到 1/1000 的 α 向量\n",
    "alpha_num = 100\n",
    "alpha_vec = np.array(list(range(0,alpha_num)))/alpha_num/1000\n",
    "RR_coef = []\n",
    "RR_vif = []\n",
    "\n",
    "# 用每一个 α 来拟合一个岭回归模型\n",
    "for alpha in alpha_vec:\n",
    "    rr_model = sm.OLS(y_train_center,X_train_scaled).fit_regularized(L1_wt=0,alpha = alpha)\n",
    "    rr_coef = rr_model.params\n",
    "    RR_coef.append(rr_coef)"
   ]
  },
  {
   "cell_type": "markdown",
   "metadata": {},
   "source": [
    "绘制岭迹图："
   ]
  },
  {
   "cell_type": "code",
   "execution_count": 317,
   "metadata": {},
   "outputs": [
    {
     "data": {
      "text/plain": [
       "<matplotlib.legend.Legend at 0x20a6b18b910>"
      ]
     },
     "execution_count": 317,
     "metadata": {},
     "output_type": "execute_result"
    },
    {
     "data": {
      "image/png": "[encoded data removed]",
      "text/plain": [
       "<Figure size 640x480 with 1 Axes>"
      ]
     },
     "metadata": {},
     "output_type": "display_data"
    }
   ],
   "source": [
    "for i in range(p):\n",
    "    plt.plot(alpha_vec, np.array(RR_coef)[:,i],label = \"X%d\"%(i+1))\n",
    "\n",
    "plt.axis([-0.00019,0.0008,-6000,8000])    \n",
    "plt.legend(loc=\"right\",bbox_to_anchor=(1.25,0.5),borderaxespad=1)\n",
    "\n",
    "# plt.savefig(\"./Fig_Ridge_trace.pdf\",div=400)"
   ]
  },
  {
   "cell_type": "markdown",
   "metadata": {},
   "source": [
    "岭迹图体现了一个特征的系数随 $\\alpha$ 变化的趋势。\n",
    "- 随着正则化参数 $\\alpha$ 的增大，系数趋向于零，正则化效应越强。\n",
    "- 如果 $\\alpha$ 过大，可能会导致所有系数都接近零，模型变得过于简单。\n",
    "\n",
    "因为该模型特征过多，很难从图中选择最优超参数，我们可以通过计算不同 $k(或 \\alpha)$ 下的 $\\text{VIF}$ 值，当 $\\text{VIF}$ 符合临界值条件，且为最小的$k(或 \\alpha)$，就是我们所选择的超参数。"
   ]
  },
  {
   "cell_type": "markdown",
   "metadata": {},
   "source": [
    "##### **方差扩大因子法**\n",
    "$$\n",
    "C(k)=(\\mathbf{X}'\\mathbf{X}+k\\mathbf{I})^{-1}\\mathbf{X}'\\mathbf{X}(\\mathbf{X}'\\mathbf{X}+k\\mathbf{I})^{-1}\n",
    "$$\n",
    "定义矩阵 $C(k)$ 中对角线的元素 $c_{jj}(k)$ 为岭估计的方差扩大因子，其中 $c_{jj}(k)$ 随着 $k$ 的增大而减少。通过选择 $k$ 使得所有方差扩大因子 $c_{jj}(k)<c_{\\text{VIF}}$，从而确定岭参数 $k$。"
   ]
  },
  {
   "cell_type": "code",
   "execution_count": 318,
   "metadata": {},
   "outputs": [
    {
     "name": "stdout",
     "output_type": "stream",
     "text": [
      "The chosen value of alpha is 4e-05\n"
     ]
    }
   ],
   "source": [
    "C_k = []\n",
    "for alpha in alpha_vec:\n",
    "    k = alpha * n_train\n",
    "    c_k = np.linalg.inv(X_train_scaled.T @ X_train_scaled + k * np.eye(p)) @ X_train_scaled.T @ X_train_scaled @ np.linalg.inv(X_train_scaled.T @ X_train_scaled + k * np.eye(p))\n",
    "    C_k.append(np.mean(np.diag(c_k)))\n",
    "\n",
    "alpha_best = alpha_vec[np.min(np.where(np.array(C_k) < vif_cv))]\n",
    "print(\"The chosen value of alpha is\", alpha_best)"
   ]
  },
  {
   "cell_type": "markdown",
   "metadata": {},
   "source": [
    "重新构建在最优的 $k(或 \\alpha)$ 时的岭回归估计，如下："
   ]
  },
  {
   "cell_type": "code",
   "execution_count": null,
   "metadata": {},
   "outputs": [
    {
     "data": {
      "text/plain": [
       "array([  41.57953954, -237.45874682,  425.74203737,  237.39089433,\n",
       "        -75.07118589,  -69.18772596, -157.55863853,  201.49432404,\n",
       "        486.57335232,   69.40097926,   77.41917581,   19.51838402,\n",
       "        -66.79676573,   79.2559342 , -138.02219834,   -5.60490362,\n",
       "        176.2658628 ,   79.20351986,  110.49730914,  127.61561012,\n",
       "        -46.68763789,   -3.62952825, -113.27404389,  -40.64416901,\n",
       "        125.2092041 ,   90.49153007,  141.76239835,   80.52319928,\n",
       "         82.9785398 ,  100.88369246,  272.65661088, -211.36539818,\n",
       "        -25.53806845,   -5.20260859, -127.87351526,  -18.60537965,\n",
       "        146.41642337, -134.53613591,  131.96307648,  -72.00512225,\n",
       "       -117.77229193,  -15.21384396,   42.18076426,  -58.75789481,\n",
       "         49.43028329,   61.46076433,  -62.64724256,  106.90807182,\n",
       "        -36.35272196,  143.1906519 ,    5.2034509 , -212.17739542,\n",
       "       -314.64167754,  -50.70264196,  -52.95193463, -121.36037362,\n",
       "        450.77053271,  -32.59367377,   51.9753317 ,   10.76366796,\n",
       "        135.72010117, -183.77823095,  261.5374714 ,  -54.8913228 ])"
      ]
     },
     "execution_count": 320,
     "metadata": {},
     "output_type": "execute_result"
    }
   ],
   "source": [
    "model_2 = sm.OLS(y_train_center,X_train_scaled).fit_regularized(L1_wt=0,alpha = alpha_best)\n",
    "model_2_coef = model_2.params\n",
    "# 岭回归的估计结果\n",
    "model_2_coef"
   ]
  },
  {
   "cell_type": "markdown",
   "metadata": {},
   "source": [
    "#### **Model_3：主成分回归模型**"
   ]
  },
  {
   "cell_type": "markdown",
   "metadata": {},
   "source": [
    "##### **基本思想**\n",
    "$$\n",
    "主成分回归=主成分分析+回归分析\n",
    "$$\n",
    "即用 $k$ 个自变量的线性变换（主成分）代替原本的 $p$ 个自变量 $(k<p)$\n",
    "\n",
    "##### **估计方法**\n",
    "- 假定设计矩阵 $\\mathbf{X}$ 已标准化。假设 $\\mathbf{X}'\\mathbf{X}$ 的\n",
    "    - 特征值为 $\\lambda_1\\ge\\lambda_2\\ge\\cdots\\ge\\lambda_p$;\n",
    "    - 其相应单位正交化后的特征向量为 $v_1,v_2,\\cdots,v_p$.\n",
    "- 令\n",
    "    - $\\Lambda = \\text{diag}\\{\\lambda_1,\\lambda_2,\\cdots,\\lambda_p\\} $;\n",
    "    - $ V'=(v_1,v_2,\\cdots,v_p) $.\n",
    "- 令 $\\mathbf{Z}=\\mathbf{XV}' $，那么\n",
    "    $$\n",
    "    \\mathbf{Z}'\\mathbf{Z}=\\Lambda \\\\\n",
    "    z_j = \\mathbf{Xv}_j = (z_{1j},z_{2j},\\cdots,z_{nj})'\n",
    "    $$\n",
    "- 第 $j$ 个主成分为\n",
    "    $$\n",
    "    z_j = v_{1j}\\mathbf{x}_1 + v_{2j}\\mathbf{x}_2 + \\cdots + v_{pj}\\mathbf{x}_p\n",
    "    $$\n",
    "- 记 $\\mathbf{\\alpha}=\\mathbf{V}\\mathbf{\\beta}$\n",
    "- 当 $|\\mathbf{X}'\\mathbf{X}|\\approx0$ 时，存在一个 $k$，使得 $\\lambda_{k+1},\\cdots,\\lambda_p$ 均近似为 0，因此，$z_{k+1},\\cdots,z_p$ 近似为 0\n",
    "- 将矩阵 $\\mathbf{Z}$ 和向量 $\\mathbf{\\alpha}$ 按上述进行拆分\n",
    "    $$\n",
    "    \\mathbf{\\alpha} = (\\mathbf{\\alpha}_1',\\mathbf{\\alpha}_2')'\\\\\n",
    "    \\mathbf{Z} = (\\mathbf{Z}_1,\\mathbf{Z}_2)\n",
    "    $$\n",
    "- 因此线性回归模型可写为\n",
    "    $$\n",
    "    \\mathbf{y} = \\mathbf{Z}_1\\mathbf{\\alpha}_1 + \\mathbf{Z}_2\\mathbf{\\alpha}_2 + \\varepsilon = \\mathbf{Z}_1\\mathbf{\\alpha}_1 + \\varepsilon\n",
    "    $$\n",
    "- $\\mathbf{\\alpha}_1$ 的最小二乘估计为\n",
    "    $$\n",
    "    \\hat{\\mathbf{\\alpha}_1}= (\\mathbf{Z}_1'\\mathbf{Z}_1)^{-1}\\mathbf{Z}_1'\\mathbf{y} = \\mathbf{\\Lambda}_1^{-1}\\mathbf{Z}_1'\\mathbf{y}\n",
    "    $$\n",
    "- 回归参数 $\\mathbf{\\beta}$ 的估计为\n",
    "    $$\n",
    "    \\hat{\\mathbf{\\beta}_{\\text{PC}}} = \\mathbf{V}_1'\\hat{\\mathbf{\\alpha}}_1=\\mathbf{V}_1'\\mathbf{\\Lambda}_1^{-1}\\mathbf{Z}_1'\\mathbf{y}\n",
    "    $$"
   ]
  },
  {
   "cell_type": "markdown",
   "metadata": {},
   "source": [
    "首先进行主成分分析并输出每个主成分的贡献率："
   ]
  },
  {
   "cell_type": "code",
   "execution_count": 321,
   "metadata": {},
   "outputs": [
    {
     "name": "stdout",
     "output_type": "stream",
     "text": [
      "The percentages of total variance are 0     10.5650\n",
      "1      6.0232\n",
      "2      5.1814\n",
      "3      4.3221\n",
      "4      3.1021\n",
      "       ...   \n",
      "59     0.0025\n",
      "60     0.0019\n",
      "61     0.0004\n",
      "62     0.0000\n",
      "63     0.0000\n",
      "Name: eigenvals, Length: 64, dtype: float64\n"
     ]
    }
   ],
   "source": [
    "model_pca = PCA(X_train_scaled,standardize = False, demean = True)\n",
    "model_pca_cr = model_pca.eigenvals # contribution rate of each component\n",
    "print(\"The percentages of total variance are\", np.around(model_pca_cr,4))"
   ]
  },
  {
   "cell_type": "markdown",
   "metadata": {},
   "source": [
    "计算特征值并排序："
   ]
  },
  {
   "cell_type": "code",
   "execution_count": 322,
   "metadata": {},
   "outputs": [
    {
     "name": "stdout",
     "output_type": "stream",
     "text": [
      "The eigen values of X'X are  [1.0565e+01 6.0232e+00 5.1814e+00 4.3221e+00 3.1021e+00 2.9543e+00\n",
      " 2.6052e+00 2.4767e+00 2.1426e+00 1.9491e+00 1.7006e+00 1.6295e+00\n",
      " 1.4848e+00 1.1843e+00 1.1586e+00 1.0413e+00 9.9250e-01 9.6160e-01\n",
      " 8.8580e-01 8.2390e-01 7.6160e-01 7.1640e-01 7.0840e-01 6.6350e-01\n",
      " 6.5070e-01 6.1310e-01 5.7510e-01 5.2150e-01 5.0910e-01 4.9940e-01\n",
      " 4.4580e-01 4.2330e-01 4.2080e-01 3.7790e-01 3.4910e-01 3.3320e-01\n",
      " 2.8080e-01 2.7050e-01 2.6010e-01 2.2970e-01 2.2370e-01 2.1250e-01\n",
      " 1.8280e-01 1.4550e-01 9.6100e-02 7.6300e-02 5.2900e-02 4.8200e-02\n",
      " 4.0400e-02 3.1700e-02 2.3700e-02 2.1200e-02 1.5400e-02 9.6000e-03\n",
      " 6.2000e-03 4.6000e-03 3.5000e-03 3.2000e-03 2.8000e-03 2.5000e-03\n",
      " 1.9000e-03 4.0000e-04 0.0000e+00 0.0000e+00]\n"
     ]
    }
   ],
   "source": [
    "Corr_Mat = X_train_scaled.T @ X_train_scaled\n",
    "Lambda, V = np.linalg.eig(Corr_Mat)\n",
    "Lambda = sorted(Lambda,reverse = True)\n",
    "print(\"The eigen values of X'X are \", np.around(Lambda,4))"
   ]
  },
  {
   "cell_type": "markdown",
   "metadata": {},
   "source": [
    "绘制 scree plot 来作出主成分个数的主观判断："
   ]
  },
  {
   "cell_type": "code",
   "execution_count": 323,
   "metadata": {},
   "outputs": [
    {
     "data": {
      "image/png": "[encoded data removed]",
      "text/plain": [
       "<Figure size 640x480 with 1 Axes>"
      ]
     },
     "metadata": {},
     "output_type": "display_data"
    }
   ],
   "source": [
    "fig = model_pca.plot_scree(log_scale = False)"
   ]
  },
  {
   "cell_type": "markdown",
   "metadata": {},
   "source": [
    "碎石图中最重要的部分是“拐点”/“肘部”。这通常是选择主成分数量的标准：\n",
    "- 在肘部之前的主成分会显著解释数据中的方差（即，Y轴的数值较大）。\n",
    "- 在肘部之后，主成分对总方差的贡献逐渐减小，贡献变得较小且趋于平稳（Y轴值接近零）。"
   ]
  },
  {
   "cell_type": "markdown",
   "metadata": {},
   "source": [
    "除此之外，还可以计算每增加一个主成分后，对信息增量是多少？我们可以计算累积贡献率。"
   ]
  },
  {
   "cell_type": "code",
   "execution_count": 324,
   "metadata": {},
   "outputs": [
    {
     "name": "stdout",
     "output_type": "stream",
     "text": [
      "The cummulative percentages of total variance are 0     0.1651\n",
      "1     0.2592\n",
      "2     0.3402\n",
      "3     0.4077\n",
      "4     0.4562\n",
      "       ...  \n",
      "59    1.0000\n",
      "60    1.0000\n",
      "61    1.0000\n",
      "62    1.0000\n",
      "63    1.0000\n",
      "Name: eigenvals, Length: 64, dtype: float64\n"
     ]
    },
    {
     "data": {
      "image/png": "[encoded data removed]",
      "text/plain": [
       "<Figure size 640x480 with 1 Axes>"
      ]
     },
     "metadata": {},
     "output_type": "display_data"
    }
   ],
   "source": [
    "model_pca_ccr = np.cumsum(model_pca_cr)/p # cummulative contribution rate\n",
    "print(\"The cummulative percentages of total variance are\", np.around(model_pca_ccr,4))\n",
    "\n",
    "fig = model_pca.plot_scree(log_scale = False)"
   ]
  },
  {
   "cell_type": "markdown",
   "metadata": {},
   "source": [
    "我们选取主成分时需要其累积贡献率达到90%："
   ]
  },
  {
   "cell_type": "code",
   "execution_count": 325,
   "metadata": {},
   "outputs": [],
   "source": [
    "pca_cv = 0.90"
   ]
  },
  {
   "cell_type": "markdown",
   "metadata": {},
   "source": [
    "根据阈值确定选取的主成分数量："
   ]
  },
  {
   "cell_type": "code",
   "execution_count": 326,
   "metadata": {},
   "outputs": [
    {
     "name": "stdout",
     "output_type": "stream",
     "text": [
      "The appropriate number of component is 27\n"
     ]
    }
   ],
   "source": [
    "num_pca = np.min(np.where(model_pca_ccr > pca_cv))\n",
    "print(\"The appropriate number of component is\", (num_pca+1))"
   ]
  },
  {
   "cell_type": "markdown",
   "metadata": {},
   "source": [
    "构建新特征（即主成分）代替原始特征，并拟合回归模型，接着通过线性变换估计主成分回归中的参数："
   ]
  },
  {
   "cell_type": "code",
   "execution_count": null,
   "metadata": {},
   "outputs": [],
   "source": [
    "model_pca_selected = PCA(X_train_scaled,  standardize = False,  demean = True)\n",
    "V = model_pca_selected.loadings\n",
    "Z_train_standardized= X_train_scaled @ V.iloc[:,0:(num_pca+1)]\n",
    "model_3 = sm.OLS(y_train_center, Z_train_standardized).fit()\n",
    "model_3_coef = V.T @ np.pad(model_3.params,(0,p-(num_pca+1)))"
   ]
  },
  {
   "cell_type": "code",
   "execution_count": 329,
   "metadata": {},
   "outputs": [
    {
     "data": {
      "text/plain": [
       "comp_00    -85.424711\n",
       "comp_01     67.617353\n",
       "comp_02   -171.307225\n",
       "comp_03    -69.611928\n",
       "comp_04    -32.869311\n",
       "              ...    \n",
       "comp_59    105.574555\n",
       "comp_60     17.829111\n",
       "comp_61    -28.617638\n",
       "comp_62     78.395314\n",
       "comp_63     85.107270\n",
       "Length: 64, dtype: float64"
      ]
     },
     "execution_count": 329,
     "metadata": {},
     "output_type": "execute_result"
    }
   ],
   "source": [
    "model_3_coef"
   ]
  },
  {
   "cell_type": "markdown",
   "metadata": {},
   "source": [
    "### **Step6.利用 RMSE 比较预测效果**"
   ]
  },
  {
   "cell_type": "markdown",
   "metadata": {},
   "source": [
    "我们采用RMSE来作为衡量指标，即\n",
    "$$\n",
    "RMSE = \\sqrt{n^{-1}\\sum_{i=1}^n (\\hat{y}_i - y_i)^2}\n",
    "$$"
   ]
  },
  {
   "cell_type": "markdown",
   "metadata": {},
   "source": [
    "#### **线性回归模型**\n",
    "对于每一个数据$(\\mathbf{x}_i,y_i)$，线性回归模型的预测结果为\n",
    "$$\n",
    "y_i^{\\text{ols}} = \\hat{\\beta}_0 + \\mathbf{x}_i \\hat{\\mathbf{\\beta}}^{\\text{ols}}\n",
    "$$\n",
    "这里\n",
    "- $\\hat{\\beta}_0$采用训练集中响应变量的样本均值来估计；\n",
    "- $\\hat{\\mathbf{\\beta}}^{\\text{ols}}$采用最小二乘估计；"
   ]
  },
  {
   "cell_type": "code",
   "execution_count": 331,
   "metadata": {},
   "outputs": [
    {
     "name": "stdout",
     "output_type": "stream",
     "text": [
      "The RMSE in the ordinary regression is 612.0976\n"
     ]
    }
   ],
   "source": [
    "y_train_mean = np.average(y_train)\n",
    "\n",
    "y_pred_ols = y_train_mean + X_test_scaled @ model_1_coef\n",
    "ols_rmse = np.sqrt(np.mean((y_pred_ols-y_test)**2))\n",
    "print(\"The RMSE in the ordinary regression is\", round(ols_rmse,4))"
   ]
  },
  {
   "cell_type": "markdown",
   "metadata": {},
   "source": [
    "#### **岭回归模型**\n",
    "对于每一个数据$(\\mathbf{x}_i,y_i)$，岭回归模型的预测结果为\n",
    "$$\n",
    "y_i^{\\text{rr}} = \\hat{\\beta}_0 + \\mathbf{x}_i \\hat{\\mathbf{\\beta}}^{\\text{rr}}\n",
    "$$\n",
    "这里\n",
    "- $\\hat{\\beta}_0$采用训练集中响应变量的样本均值来估计；\n",
    "- $\\hat{\\mathbf{\\beta}}^{\\text{rr}}$采用岭回归估计；\n"
   ]
  },
  {
   "cell_type": "code",
   "execution_count": 332,
   "metadata": {},
   "outputs": [
    {
     "name": "stdout",
     "output_type": "stream",
     "text": [
      "The RMSE in the ridge regression is 79.8173\n"
     ]
    }
   ],
   "source": [
    "y_pred_rr = y_train_mean + X_test_scaled @ model_2_coef\n",
    "rr_rmse = np.sqrt(np.mean((y_pred_rr-y_test)**2))\n",
    "\n",
    "print(\"The RMSE in the ridge regression is\", round(rr_rmse,4))"
   ]
  },
  {
   "cell_type": "markdown",
   "metadata": {},
   "source": [
    "#### **主成分回归模型**\n",
    "对于每一个数据$(\\mathbf{x}_i,y_i)$，主成分回归模型的预测结果为\n",
    "$$\n",
    "y_i^{\\text{pcr}} = \\hat{\\beta}_0 + \\mathbf{x}_i \\hat{\\mathbf{\\beta}}^{\\text{pcr}}\n",
    "$$\n",
    "这里\n",
    "- $\\hat{\\beta}_0$采用训练集中响应变量的样本均值来估计；\n",
    "- $\\hat{\\mathbf{\\beta}}^{\\text{pcrr}}$采用主成分回归估计；"
   ]
  },
  {
   "cell_type": "code",
   "execution_count": 334,
   "metadata": {},
   "outputs": [
    {
     "name": "stdout",
     "output_type": "stream",
     "text": [
      "The RMSE in the principal component regression is 102.3197\n"
     ]
    }
   ],
   "source": [
    "model_3_coef = model_3_coef.values.flatten()  # 转换为一维数组\n",
    "y_pred_pcr = y_train_mean + X_test_scaled @ model_3_coef\n",
    "pcr_rmse = np.sqrt(np.mean((y_pred_pcr-y_test)**2))\n",
    "\n",
    "print(\"The RMSE in the principal component regression is\", round(pcr_rmse,4))"
   ]
  },
  {
   "cell_type": "markdown",
   "metadata": {},
   "source": [
    "#### **比较与评论**\n",
    "\n",
    "- **普通线性回归 (Model_1)**:\n",
    "   - RMSE 值为 **612.0976**，这个值明显较高，说明普通线性回归在测试集上的预测误差较大。可能是由于多重共线性等问题，导致模型的拟合能力不足，产生了较大的预测误差。\n",
    "   - 普通线性回归模型没有正则化，因此如果数据中存在较多的相关特征，容易导致过拟合或不稳定的结果。\n",
    "\n",
    "- **岭回归 (Model_2)**:\n",
    "   - RMSE 值为 **79.8173**，显著低于普通线性回归的 RMSE。岭回归通过引入 **L2 正则化**，有效地减少了过拟合，尤其是当数据存在多重共线性时，岭回归能够稳定回归系数，从而改善模型的预测能力。\n",
    "   - 因此，岭回归的结果相较于普通线性回归更加稳健和准确。\n",
    "\n",
    "- **主成分回归 (Model_3)**:\n",
    "   - RMSE 值为 **102.3197**，虽然低于普通线性回归，但高于岭回归。主成分回归通过先进行 **主成分分析 (PCA)**，减少数据的维度，选择最能解释方差的主成分，进而减少特征之间的相关性。这种方法对高维数据（特征数较多）通常非常有效，尤其是在特征之间存在多重共线性的情况下。\n",
    "   - 但是，PCA 可能会导致一些信息的丢失，因为它是基于方差选择特征，有时会丢掉一些对于预测非常重要的低方差特征。因此，虽然主成分回归的 RMSE 小于普通回归，但相对而言，它的表现逊色于岭回归。\n",
    "\n",
    "综上所述，岭回归是最优选择，其次是主成分回归，表现最差的是普通线性回归模型。"
   ]
  }
 ],
 "metadata": {
  "kernelspec": {
   "display_name": "iueio",
   "language": "python",
   "name": "python3"
  },
  "language_info": {
   "codemirror_mode": {
    "name": "ipython",
    "version": 3
   },
   "file_extension": ".py",
   "mimetype": "text/x-python",
   "name": "python",
   "nbconvert_exporter": "python",
   "pygments_lexer": "ipython3",
   "version": "3.8.16"
  }
 },
 "nbformat": 4,
 "nbformat_minor": 2
}
