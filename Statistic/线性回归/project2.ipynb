{
 "cells": [
  {
   "cell_type": "markdown",
   "metadata": {},
   "source": [
    "# **实验作业-2：Multiple Linear Regression**\n",
    "刘蔚璁 10225501443"
   ]
  },
  {
   "cell_type": "markdown",
   "metadata": {},
   "source": [
    "## **背景描述**\n",
    "汽车发动机在测功机上产生的**制动马力**被认为是**发动机转速**(每分钟转数，rpm)、**燃料的道路辛烷值**和**发动机压缩值**的函数，我们在实验室里进行实验，研究它们的函数关系。"
   ]
  },
  {
   "cell_type": "markdown",
   "metadata": {},
   "source": [
    "## **数据描述**\n",
    "\n",
    "| 变量名 | 变量含义 | 变量类型 | 变量取值范围 |\n",
    "|:-----:|:-----:|:-----:|:-----:|\n",
    "| rpm | 发动机转速 | 连续变量 | $R^+$ |\n",
    "| Road_Octane_Number | 道路辛烷值 | 连续变量 | $R^+$ |\n",
    "| Compression | 压缩值 | 连续变量 | $R^+$ |\n",
    "| Brake_Horsepower | 制动马力 | 连续变量 | $R^+$ |"
   ]
  },
  {
   "cell_type": "markdown",
   "metadata": {},
   "source": [
    "## **任务**\n",
    "注：这里使用 $\\alpha=0.05$ 的显著性水平。\n",
    "\n",
    "1. 请用多元线性回归模型，描述制动马力和发动机转速、道路辛烷值以及压缩值之间的函数关系。\n",
    "2. 分别将数据中心化、标准化之后，比较参数估计的异同，并进行评述（提示：可以结合理论课的课件）。\n",
    "3. 从模型显著性、参数显著性以及残差分析三个角度，分析多元线性回归模型是否合理。\n",
    "4. 若取发动机转速为3000转/min，道路辛烷值为90，发动机压缩值为100时，分别给出制动马力值的置信区间和预测区间。"
   ]
  },
  {
   "cell_type": "markdown",
   "metadata": {},
   "source": [
    "## **解决方案**"
   ]
  },
  {
   "cell_type": "markdown",
   "metadata": {},
   "source": [
    "### **实验前的准备**"
   ]
  },
  {
   "cell_type": "markdown",
   "metadata": {},
   "source": [
    "本次实验我们载入一些 Python 的安装包，如下："
   ]
  },
  {
   "cell_type": "code",
   "execution_count": 101,
   "metadata": {},
   "outputs": [],
   "source": [
    "import os # 修改工作目录\n",
    "\n",
    "import numpy as np\n",
    "import pandas as pd\n",
    "import scipy.stats as stats\n",
    "import matplotlib.pyplot as plt\n",
    "from sklearn.linear_model import LinearRegression\n",
    "from jupyterquiz import display_quiz\n",
    "\n",
    "import statsmodels.api as sm\n",
    "from statsmodels.formula.api import ols\n",
    "from statsmodels.stats.anova import anova_lm\n",
    "from scipy.stats import f\n",
    "from scipy.stats import t\n",
    "from statsmodels.stats.stattools import durbin_watson\n",
    "from statsmodels.stats.diagnostic import het_breuschpagan\n",
    "from statsmodels.stats.diagnostic import het_white\n",
    "\n",
    "from sklearn import datasets, linear_model\n",
    "from sklearn.metrics import mean_squared_error, r2_score\n",
    "from sklearn import preprocessing"
   ]
  },
  {
   "cell_type": "markdown",
   "metadata": {},
   "source": [
    "设置数据目录，如下："
   ]
  },
  {
   "cell_type": "code",
   "execution_count": 2,
   "metadata": {},
   "outputs": [],
   "source": [
    "os.chdir(r\"C:\\Users\\86182\\Desktop\\Statistic\\project2\") "
   ]
  },
  {
   "cell_type": "markdown",
   "metadata": {},
   "source": [
    "### **数据预处理**"
   ]
  },
  {
   "cell_type": "markdown",
   "metadata": {},
   "source": [
    "导入数据集："
   ]
  },
  {
   "cell_type": "code",
   "execution_count": 3,
   "metadata": {},
   "outputs": [
    {
     "name": "stdout",
     "output_type": "stream",
     "text": [
      "    rpm  Road Octane Number  Compression  Brake Horsepower\n",
      "0  2000                  90          100               225\n",
      "1  1800                  94           95               212\n",
      "2  2400                  88          110               229\n",
      "3  1900                  91           96               222\n",
      "4  1600                  86          100               219\n"
     ]
    }
   ],
   "source": [
    "Data = pd.read_csv(\"Project_3.csv\")\n",
    "print(Data.head())"
   ]
  },
  {
   "cell_type": "markdown",
   "metadata": {},
   "source": [
    "参数设置："
   ]
  },
  {
   "cell_type": "code",
   "execution_count": 4,
   "metadata": {},
   "outputs": [
    {
     "name": "stdout",
     "output_type": "stream",
     "text": [
      "The number of instances is  12\n",
      "The number of features is  3\n"
     ]
    }
   ],
   "source": [
    "alpha = 0.05\n",
    "\n",
    "n = Data.shape[0]\n",
    "p = Data.shape[1] - 1\n",
    "print(\"The number of instances is \", n)\n",
    "print(\"The number of features is \", p)"
   ]
  },
  {
   "cell_type": "markdown",
   "metadata": {},
   "source": [
    "在本题中，制动马力为响应变量，其他变量作为特征，为简化后续操作，我们将该数据集分为特征和标签两部分："
   ]
  },
  {
   "cell_type": "code",
   "execution_count": 10,
   "metadata": {},
   "outputs": [
    {
     "name": "stdout",
     "output_type": "stream",
     "text": [
      "特征：\n",
      "    rpm  Road Octane Number  Compression\n",
      "0  2000                  90          100\n",
      "1  1800                  94           95\n",
      "2  2400                  88          110\n",
      "3  1900                  91           96\n",
      "4  1600                  86          100\n",
      "标签：\n",
      "0    225\n",
      "1    212\n",
      "2    229\n",
      "3    222\n",
      "4    219\n",
      "Name: Brake Horsepower, dtype: int64\n"
     ]
    }
   ],
   "source": [
    "feature = Data.iloc[:, :-1]\n",
    "label = Data.iloc[:, -1]\n",
    "\n",
    "print(\"特征：\")\n",
    "print(feature.head())\n",
    "print(\"标签：\")\n",
    "print(label.head())"
   ]
  },
  {
   "cell_type": "markdown",
   "metadata": {},
   "source": [
    "### **Q1.请用多元线性回归模型，描述制动马力和发动机转速、道路辛烷值以及压缩值之间的函数关系。**"
   ]
  },
  {
   "cell_type": "markdown",
   "metadata": {},
   "source": [
    "多元线性回归模型形如\n",
    "$$\n",
    "y_i = \\beta_0 + \\beta_1 x_{i1} + \\beta_2 x_{i2} + \\epsilon_{i}, i=1,2,\\cdots,n\n",
    "$$\n",
    "其中，$\\beta_0,\\beta_1,\\beta_2$ 分别是未知参数，而 $\\epsilon_{i}$ 是误差项，且满足 $E(\\epsilon_{i}) = 0$ 和 $Var(\\epsilon_{i}) = \\sigma^2$。$n$ 表示样本量。\n",
    "\n",
    "我们可以用矩阵的形式来写这个模型，即\n",
    "$$\n",
    "\\mathbf{y} = \\mathbf{X}\\mathbf{\\beta} + \\mathbf{\\epsilon}\n",
    "$$\n",
    "其中，\n",
    "- 响应变量构成的向量为\n",
    "$$\n",
    "\\mathbf{y} = \\begin{pmatrix}y_1\\\\y_2\\\\\\vdots\\\\ y_n\\end{pmatrix},\n",
    "$$\n",
    "- 自变量/特征构成的矩阵\n",
    "$$\n",
    "\\mathbf{X} = \\begin{pmatrix}\n",
    "1 & x_{11} & x_{12} \\\\\n",
    "1 & x_{21} & x_{22} \\\\\n",
    "\\vdots & \\vdots & \\vdots \\\\\n",
    "1 & x_{n1} & x_{n2} \\\\\n",
    "\\end{pmatrix},\n",
    "$$\n",
    "- 待估参数向量为\n",
    "$$\n",
    "\\mathbf{\\beta} = \\begin{pmatrix}\n",
    "\\beta_0 \\\\ \\beta_1 \\\\ \\beta_2\n",
    "\\end{pmatrix},\n",
    "$$\n",
    "- 误差向量为\n",
    "$$\n",
    "\\mathbf{\\epsilon} = \\begin{pmatrix}\\epsilon_1\\\\\\epsilon_2\\\\\\vdots\\\\ \\epsilon_n\\end{pmatrix}.\n",
    "$$"
   ]
  },
  {
   "cell_type": "markdown",
   "metadata": {},
   "source": [
    "#### **方法一：最小二乘法**"
   ]
  },
  {
   "cell_type": "markdown",
   "metadata": {},
   "source": [
    "由最小二乘法得到的参数向量的估计为：\n",
    "$$\n",
    "\\hat{\\mathbf{\\beta}} = (\\mathbf{X}'\\mathbf{X})^{-1} \\mathbf{X}'\\mathbf{y}.\n",
    "$$"
   ]
  },
  {
   "cell_type": "markdown",
   "metadata": {},
   "source": [
    "构造设计矩阵 $X$ 并把待计算向量都转化为 *numpy* 数组："
   ]
  },
  {
   "cell_type": "code",
   "execution_count": 13,
   "metadata": {},
   "outputs": [
    {
     "name": "stdout",
     "output_type": "stream",
     "text": [
      "[[   1. 2000.   90.  100.]\n",
      " [   1. 1800.   94.   95.]\n",
      " [   1. 2400.   88.  110.]\n",
      " [   1. 1900.   91.   96.]\n",
      " [   1. 1600.   86.  100.]]\n",
      "[225 212 229 222 219]\n"
     ]
    }
   ],
   "source": [
    "X = sm.add_constant(feature).values\n",
    "y = label.values\n",
    "\n",
    "np.set_printoptions(suppress=True, precision=4)\n",
    "print(X[:5])\n",
    "print(y[:5])"
   ]
  },
  {
   "cell_type": "markdown",
   "metadata": {},
   "source": [
    "进行矩阵计算(将其封装为函数方便之后调用)："
   ]
  },
  {
   "cell_type": "code",
   "execution_count": 21,
   "metadata": {},
   "outputs": [
    {
     "name": "stdout",
     "output_type": "stream",
     "text": [
      "The estimates of the parameters are \n",
      " [-266.0312    0.0107    3.1348    1.8674]\n"
     ]
    }
   ],
   "source": [
    "def MatrixCalculus(X,y):\n",
    "    return np.linalg.inv(X.T @ X) @ X.T @ y\n",
    "beta_hat_1 = MatrixCalculus(X,y)\n",
    "print(\"The estimates of the parameters are \\n\", \n",
    "      np.around(beta_hat_1,4))"
   ]
  },
  {
   "cell_type": "markdown",
   "metadata": {},
   "source": [
    "#### **方法二：调用 *statmodels* 库**"
   ]
  },
  {
   "cell_type": "markdown",
   "metadata": {},
   "source": [
    "*statsmodels* 库中的 *ols* 方法是用于执行普通最小二乘法线性回归的函数\n",
    "- 基本用法\n",
    "\n",
    "    model = ols(formula, data)\n",
    "\n",
    "    - formula是一个字符串，定义回归方程的形式。例如，\"Y ~ X1 + X2\" 表示目标变量 Y 是自变量 X1 和 X2 的线性组合。\n",
    "    - data是一个 pandas.DataFrame 数据框，包含模型中所有变量。ols 方法会根据 formula 指定的变量名称从数据框中提取相应数据。"
   ]
  },
  {
   "cell_type": "markdown",
   "metadata": {},
   "source": [
    "先前查看数据集信息得知，共有三个自变量，其列名分别为：rpm, Road Octane Number, Compression，目标变量列名为：Brake Horsepower，可据此拟合模型："
   ]
  },
  {
   "cell_type": "code",
   "execution_count": 19,
   "metadata": {},
   "outputs": [
    {
     "name": "stdout",
     "output_type": "stream",
     "text": [
      "The estimates of the parameters are \n",
      " Intercept            -266.0312\n",
      "rpm                     0.0107\n",
      "Road_Octane_Number      3.1348\n",
      "Compression             1.8674\n",
      "dtype: float64\n"
     ]
    }
   ],
   "source": [
    "# 重命名列，防止列名出现空格\n",
    "Data = Data.rename(columns={\n",
    "    'Brake Horsepower': 'Brake_Horsepower',\n",
    "    'Road Octane Number': 'Road_Octane_Number'\n",
    "})\n",
    "\n",
    "model1 = ols(\"Brake_Horsepower ~ rpm + Road_Octane_Number + Compression\",Data).fit()\n",
    "beta_hat_2 = model1.params\n",
    "#print(\"The estimates of the parameters are \\n\", \n",
    "#      round(model.param(),4))\n",
    "print(\"The estimates of the parameters are \\n\", \n",
    "      round(beta_hat_2,4))"
   ]
  },
  {
   "cell_type": "markdown",
   "metadata": {},
   "source": [
    "#### **方法三：调用 *scikit-learn* 库**"
   ]
  },
  {
   "cell_type": "code",
   "execution_count": 20,
   "metadata": {},
   "outputs": [
    {
     "name": "stdout",
     "output_type": "stream",
     "text": [
      "The estimates of the parameters are \n",
      " [-266.0312    0.0107    3.1348    1.8674]\n"
     ]
    }
   ],
   "source": [
    "model2 = linear_model.LinearRegression()\n",
    "\n",
    "model2.fit(feature.values, y)\n",
    "beta_hat_3 = np.append(np.array(model2.intercept_),model2.coef_)\n",
    "\n",
    "print(\"The estimates of the parameters are \\n\", \n",
    "      np.around(beta_hat_3,4))"
   ]
  },
  {
   "cell_type": "markdown",
   "metadata": {},
   "source": [
    "**综上，可写出制动马力和发动机转速、道路辛烷值以及压缩值之间的函数关系**\n",
    "$$\\hat{y}_{\\text{Brake Horsepower}} = -266.0312 + 0.0107 x_{\\text{rpm}} + 3.1348 x_{\\text{Road Octane Number}} + 1.8674 x_{\\text{compression}}\n",
    "$$"
   ]
  },
  {
   "cell_type": "markdown",
   "metadata": {},
   "source": [
    "### **Q2.分别将数据中心化、标准化之后，比较参数估计的异同，并进行评述（提示：可以结合理论课的课件）。**"
   ]
  },
  {
   "cell_type": "markdown",
   "metadata": {},
   "source": [
    "线性回归模型为\n",
    "$$ \\begin{aligned}\n",
    "y &= \\bm{x'}\\bm{\\beta} + \\epsilon \\\\ &= \\beta_0+\\sum\\limits_{j=1}^p\\beta_jx_j+\\epsilon\n",
    "\\end{aligned}\n",
    "$$\n",
    "回归参数 $\\beta$ 的估计记为 $\\bm{\\hat{\\beta}}=(\\hat{\\beta}_{\\text{intercep}},\\bm{\\hat{\\beta}}_{\\text{slope}})'$\n",
    "\n",
    "经验回归方程为\n",
    "$$\\hat{y}=\\hat{\\beta}_{\\text{intercept}}+\\bm{x'}\\bm{\\hat{\\beta}}_{\\text{slope}}$$"
   ]
  },
  {
   "cell_type": "markdown",
   "metadata": {},
   "source": [
    "#### **中心化**"
   ]
  },
  {
   "cell_type": "markdown",
   "metadata": {},
   "source": [
    "对每一个变量均减去其均值，即\n",
    "$$\\begin{aligned}\n",
    "x_{ij}^* &= x_{ij}-\\overline{x}_j,\\quad \\overline{x}_j=n^{-1}\\sum\\limits_{i=1}^nx_{ij} \\\\\n",
    "y_{ij}^* &= y_{i}-\\overline{y},\\quad \\overline{y}=n^{-1}\\sum\\limits_{i=1}^ny_{i} \n",
    "\\end{aligned}\n",
    "$$\n",
    "令中心化后的数据为\n",
    "$$\\left\\{ \n",
    "\\begin{array}{ll}\n",
    "\\bm{y}^* = (y_1^*,\\cdot\\cdot\\cdot,y_n^*)'\\\\\n",
    "\\bm{X}_c = (\\bm{x}_1^*,\\cdot\\cdot\\cdot,\\bm{x}_p^*) \\\\\n",
    "\\bm{X}^* = (\\bm{1}_n,\\bm{X}_c)\n",
    "\\end{array} \n",
    "\\right.$$\n",
    "其中，$\\bm{x}_j^*=(x_{1j}^*,\\cdot\\cdot\\cdot,x_{nj}^*)'$\n",
    "\n",
    "那么，基于中心化后的数据 $\\bm{y}^*$ 和 $\\bm{X}^*$，回归参数的估计为\n",
    "$$\\hat{\\bm{\\beta}}_c = ((\\bm{X}^*)'\\bm{X}^*)^{-1}(\\bm{X}^*)'\\bm{y}^*$$\n"
   ]
  },
  {
   "cell_type": "markdown",
   "metadata": {},
   "source": [
    "根据上述方法对数据进行中心化，可以看出中心化后的样本均值皆为 0："
   ]
  },
  {
   "cell_type": "code",
   "execution_count": 23,
   "metadata": {},
   "outputs": [
    {
     "name": "stdout",
     "output_type": "stream",
     "text": [
      "The sample means of centered features are  [-0. -0.  0.]\n",
      "The sample mean of centered response is  0.0\n"
     ]
    }
   ],
   "source": [
    "X_center = preprocessing.scale(feature.values, with_mean=True, with_std=False)\n",
    "y_center = preprocessing.scale(y, with_mean=True, with_std=False)\n",
    "\n",
    "print(\"The sample means of centered features are \", np.around(np.mean(X_center,axis=0),4))\n",
    "print(\"The sample mean of centered response is \", np.around(np.mean(y_center,axis=0),4))"
   ]
  },
  {
   "cell_type": "markdown",
   "metadata": {},
   "source": [
    "使用矩阵计算得到参数估计："
   ]
  },
  {
   "cell_type": "code",
   "execution_count": 26,
   "metadata": {},
   "outputs": [
    {
     "name": "stdout",
     "output_type": "stream",
     "text": [
      "[0.     0.0107 3.1348 1.8674]\n"
     ]
    }
   ],
   "source": [
    "X_center_with_intercept = np.hstack((np.ones((X_center.shape[0], 1)), X_center))\n",
    "\n",
    "beta_hat_center = MatrixCalculus(X_center_with_intercept,y_center)\n",
    "print(beta_hat_center)"
   ]
  },
  {
   "cell_type": "markdown",
   "metadata": {},
   "source": [
    "调用 *scikit-learn* 库得到参数估计："
   ]
  },
  {
   "cell_type": "code",
   "execution_count": 32,
   "metadata": {},
   "outputs": [
    {
     "name": "stdout",
     "output_type": "stream",
     "text": [
      "The estimates of the parameters are \n",
      " [0.     0.0107 3.1348 1.8674]\n"
     ]
    }
   ],
   "source": [
    "model3 = linear_model.LinearRegression()\n",
    "\n",
    "model3.fit(X_center, y_center)\n",
    "beta_hat_center2 = np.append(np.array(model3.intercept_),model3.coef_)\n",
    "\n",
    "print(\"The estimates of the parameters are \\n\", \n",
    "      np.around(beta_hat_center2,4))"
   ]
  },
  {
   "cell_type": "markdown",
   "metadata": {},
   "source": [
    "**综上，经中心化后得到的参数估计为**\n",
    "$$\\begin{aligned}\n",
    "&\\hat{\\beta}_{\\text{c,intercep}} &&= 0 \\\\\n",
    "&\\bm{\\hat{\\beta}}_{\\text{c,slope}} &&= (0.0107, 3.1348, 1.8674)' \\\\\n",
    "&\\bm{\\hat{\\beta}}_{\\text{c}}&&=(\\hat{\\beta}_{\\text{c,intercep}},\\bm{\\hat{\\beta}}_{\\text{c,slope}}) = (0,0.0107, 3.1348, 1.8674)'\n",
    "\\end{aligned}\n",
    "$$"
   ]
  },
  {
   "cell_type": "markdown",
   "metadata": {},
   "source": [
    "#### **标准化**"
   ]
  },
  {
   "cell_type": "markdown",
   "metadata": {},
   "source": [
    "标准化过程如下：\n",
    "$$\\begin{aligned}\n",
    "x_{ij}^{**} &= \\frac{x_{ij}^*}{\\sqrt{L_{jj}}} = \\frac{x_{ij}-\\overline{x}_j}{\\sqrt{L_{jj}}},\\quad i=1,2,\\cdot\\cdot\\cdot,n;j=1,2,\\cdot\\cdot\\cdot,p.\\\\\n",
    "y_{i}^{**} &= \\frac{y_i^*}{\\sqrt{L_{yy}}},\\quad i=1,2,\\cdot\\cdot\\cdot,n.\n",
    "\\end{aligned}\n",
    "$$\n",
    "其中，$L_{jj}$ 是自变量 $x_j$ 的离差平方和，即\n",
    "$$L_{jj} = \\sum\\limits_{i=1}^n(x_{ij}-\\overline{x}_j)^2$$\n",
    "而 $L_{yy}$ 是因变量 $y$ 的离差平方和，即\n",
    "$$L_{yy} = \\sum\\limits_{i=1}^n(y_{j}-\\overline{y})^2$$\n",
    "令标准化后的数据为\n",
    "$$\\left\\{ \n",
    "\\begin{array}{ll}\n",
    "\\bm{y}^{**} = (\\frac{y_1-\\overline{y}}{\\sqrt{L_{yy}}},\\cdot\\cdot\\cdot,\\frac{y_n-\\overline{y}}{\\sqrt{L_{yy}}})' = \\frac{1}{\\sqrt{L_{yy}}}\\bm{y}^*\\\\\n",
    "\\bm{X}_s = (\\frac{1}{\\sqrt{L_{11}}}\\bm{x}_1^*,\\cdot\\cdot\\cdot,\\frac{1}{\\sqrt{L_{pp}}}\\bm{x}_p^*)=\\bm{X}_c\\bm{L} \n",
    "\\end{array} \n",
    "\\right.$$\n",
    "其中，\n",
    "$$\n",
    "\\bm{L} = \\text{diag}\\left\\{\\frac{1}{\\sqrt{L_{11}}},\\cdot\\cdot\\cdot,\\frac{1}{\\sqrt{L_{pp}}}\\right\\}\n",
    "$$\n",
    "因此，最小二乘估计为\n",
    "$$\n",
    "\\hat{\\bm{\\beta}}_s = (\\hat{\\beta}_{\\text{s,intercept}},\\hat{\\bm{\\beta}}_{\\text{s,slope}})' = (0,\\hat{\\bm{\\beta}}_{\\text{s,slope}})'.\n",
    "$$\n",
    "回归系数为\n",
    "$$\n",
    "\\hat{\\bm{\\beta}}_{\\text{s,slope}} = (\\bm{X}_{\\text{s}}'\\bm{X}_{\\text{s}})^{-1}\\bm{X}_{\\text{s}}'\\bm{y}^{**}\n",
    "$$"
   ]
  },
  {
   "cell_type": "markdown",
   "metadata": {},
   "source": [
    "根据上述方法对数据进行标准化，可以看出标准化后的样本均值皆为 0："
   ]
  },
  {
   "cell_type": "code",
   "execution_count": 28,
   "metadata": {},
   "outputs": [
    {
     "name": "stdout",
     "output_type": "stream",
     "text": [
      "The sample means of standardized features are  [-0. -0. -0.]\n",
      "The sample mean of standardized response is  0.0\n"
     ]
    }
   ],
   "source": [
    "X_standard = preprocessing.scale(feature.values, with_mean=True, with_std=True)\n",
    "y_standard = preprocessing.scale(y, with_mean=True, with_std=True)\n",
    "\n",
    "print(\"The sample means of standardized features are \", np.around(np.mean(X_standard,axis=0),4))\n",
    "print(\"The sample mean of standardized response is \", np.around(np.mean(y_standard,axis=0),4))"
   ]
  },
  {
   "cell_type": "markdown",
   "metadata": {},
   "source": [
    "使用矩阵计算得到参数估计："
   ]
  },
  {
   "cell_type": "code",
   "execution_count": 29,
   "metadata": {},
   "outputs": [
    {
     "name": "stdout",
     "output_type": "stream",
     "text": [
      "[0.3757 0.5793 0.5477]\n"
     ]
    }
   ],
   "source": [
    "beta_hat_standard = MatrixCalculus(X_standard,y_standard)\n",
    "print(beta_hat_standard)"
   ]
  },
  {
   "cell_type": "markdown",
   "metadata": {},
   "source": [
    "调用 *scikit-learn* 库得到参数估计："
   ]
  },
  {
   "cell_type": "code",
   "execution_count": 31,
   "metadata": {},
   "outputs": [
    {
     "name": "stdout",
     "output_type": "stream",
     "text": [
      "The estimates of the parameters are \n",
      " [0.     0.3757 0.5793 0.5477]\n"
     ]
    }
   ],
   "source": [
    "model4 = linear_model.LinearRegression()\n",
    "\n",
    "model4.fit(X_standard, y_standard)\n",
    "beta_hat_standard2 = np.append(np.array(model4.intercept_),model4.coef_)\n",
    "\n",
    "print(\"The estimates of the parameters are \\n\", \n",
    "      np.around(beta_hat_standard2,4))"
   ]
  },
  {
   "cell_type": "markdown",
   "metadata": {},
   "source": [
    "**综上，经标准化后得到的参数估计为**\n",
    "$$\\begin{aligned}\n",
    "&\\hat{\\beta}_{\\text{s,intercep}} &&= 0 \\\\\n",
    "&\\bm{\\hat{\\beta}}_{\\text{s,slope}} &&= (0.3757 ,0.5793, 0.5477)' \\\\\n",
    "&\\bm{\\hat{\\beta}}_{\\text{s}}&&=(\\hat{\\beta}_{\\text{s,intercep}},\\bm{\\hat{\\beta}}_{\\text{s,slope}}) = (0,0.3757 ,0.5793, 0.5477)'\n",
    "\\end{aligned}\n",
    "$$"
   ]
  },
  {
   "cell_type": "markdown",
   "metadata": {},
   "source": [
    "#### **参数估计异同的比较与评述**"
   ]
  },
  {
   "cell_type": "markdown",
   "metadata": {},
   "source": [
    "$$\n",
    "\\bm{\\hat{\\beta}}_{\\text{c}}=(\\hat{\\beta}_{\\text{c,intercep}},\\bm{\\hat{\\beta}}_{\\text{c,slope}}) = (0,0.0107, 3.1348, 1.8674)'\\\\\n",
    "\\bm{\\hat{\\beta}}_{\\text{s}}=(\\hat{\\beta}_{\\text{s,intercep}},\\bm{\\hat{\\beta}}_{\\text{s,slope}}) = (0,0.3757 ,0.5793, 0.5477)'\n",
    "$$"
   ]
  },
  {
   "cell_type": "markdown",
   "metadata": {},
   "source": [
    "因为\n",
    "$$\\begin{aligned}\n",
    "\\hat{\\bm{\\beta}}_{\\text{s,slope}} &= (\\bm{X}_{\\text{s}}'\\bm{X}_{\\text{s}})^{-1}\\bm{X}_{\\text{s}}'\\bm{y}^{**}\\\\\n",
    "&= (\\bm{L}\\bm{X}_{\\text{c}}'\\bm{X}_{\\text{c}}\\bm{L})^{-1}\\bm{L}\\bm{X}_{\\text{c}}'\\frac{1}{\\sqrt{L_{yy}}}\\bm{y}^*\\\\\n",
    "&= \\frac{1}{\\sqrt{L_{yy}}}\\bm{L}^{-1}(\\bm{X}_{\\text{c}}'\\bm{X}_{\\text{c}})^{-1}\\bm{X}_{\\text{c}}'\\bm{y}^*\\\\\n",
    "&= \\frac{1}{\\sqrt{L_{yy}}}\\bm{L}^{-1}\\bm{\\hat{\\beta}}_{\\text{c,slope}}\n",
    "\\end{aligned}$$\n",
    "其中每一个分量为\n",
    "$$\n",
    "\\hat{\\beta}_{\\text{s}j}=\\frac{\\sqrt{L_{jj}}}{\\sqrt{L_{yy}}}\\hat{\\beta}_{\\text{c}j}=\\frac{\\sqrt{L_{jj}}}{\\sqrt{L_{yy}}}\\hat{\\beta}_{j},\\quad j=1,2,\\cdot\\cdot\\cdot,p.\n",
    "$$\n",
    "且有 $\\hat{\\beta}_{\\text{c,intercep}} = \\hat{\\beta}_{\\text{s,intercep}} = 0$"
   ]
  },
  {
   "cell_type": "markdown",
   "metadata": {},
   "source": [
    "接下来通过代码验证上述式子，首先计算各变量的离差平方和："
   ]
  },
  {
   "cell_type": "code",
   "execution_count": 34,
   "metadata": {},
   "outputs": [
    {
     "name": "stdout",
     "output_type": "stream",
     "text": [
      "各变量的离差平方和：\n",
      "rpm                   3.949167e+06\n",
      "Road_Octane_Number    1.096667e+02\n",
      "Compression           2.762500e+02\n",
      "Brake_Horsepower      3.211000e+03\n",
      "dtype: float64\n"
     ]
    }
   ],
   "source": [
    "deviation_squared_sum = ((Data - Data.mean()) ** 2).sum()\n",
    "print(\"各变量的离差平方和：\")\n",
    "print(deviation_squared_sum)"
   ]
  },
  {
   "cell_type": "markdown",
   "metadata": {},
   "source": [
    "把使用上式计算出来的参数与之前直接计算的标准化参数进行比较："
   ]
  },
  {
   "cell_type": "code",
   "execution_count": 39,
   "metadata": {},
   "outputs": [
    {
     "name": "stdout",
     "output_type": "stream",
     "text": [
      "beta_hat_s1: 0.3757\n",
      "beta_hat_s2: 0.5793\n",
      "beta_hat_s3: 0.5477\n",
      "[0.3757 0.5793 0.5477]\n"
     ]
    }
   ],
   "source": [
    "L11 = deviation_squared_sum['rpm']\n",
    "L22 = deviation_squared_sum['Road_Octane_Number']\n",
    "L33 = deviation_squared_sum['Compression']\n",
    "Lyy = deviation_squared_sum['Brake_Horsepower']\n",
    "\n",
    "beta_hat_s1 = np.sqrt(L11/Lyy)*beta_hat_center[1]\n",
    "beta_hat_s2 = np.sqrt(L22/Lyy)*beta_hat_center[2]\n",
    "beta_hat_s3 = np.sqrt(L33/Lyy)*beta_hat_center[3]\n",
    "print(\"beta_hat_s1:\",round(beta_hat_s1,4))\n",
    "print(\"beta_hat_s2:\",round(beta_hat_s2,4))\n",
    "print(\"beta_hat_s3:\",round(beta_hat_s3,4))\n",
    "print(beta_hat_standard)"
   ]
  },
  {
   "cell_type": "markdown",
   "metadata": {},
   "source": [
    "计算结果相等，既有\n",
    "$$\\begin{aligned}\n",
    "\\hat{\\bm{\\beta}}_{\\text{s,intercep}} &= \\hat{\\bm{\\beta}}_{\\text{c,intercep}}\\\\\n",
    "\\hat{\\bm{\\beta}}_{\\text{s,slope}} &= \\frac{1}{\\sqrt{L_{yy}}}\\bm{L}^{-1}\\bm{\\hat{\\beta}}_{\\text{c,slope}}\n",
    "\\end{aligned}$$"
   ]
  },
  {
   "cell_type": "markdown",
   "metadata": {},
   "source": [
    "- ##### **中心化**\n",
    "    仅改变了数据的均值，不改变数据的方差和标准差。因此参数估计中的截距（intercept）值会受到影响，通常会变为0（如果模型中包含了常数项），而其他系数的估计值不受影响。\n",
    "    - 在中心化后，参数估计可能保持在较大的数值范围，因为它们是基于原始数据的尺度。\n",
    "    - 中心化后的参数估计更容易解释，因为它们仍然反映原始数据的单位。\n",
    "\n",
    "- ##### **标准化**\n",
    "    改变了数据的均值和方差，使得数据的分布标准化为均值为0，标准差为1。因此参数估计中会影响所有系数的值，包括截距和斜率，因为数据的尺度发生了变化。\n",
    "    - 在标准化后，参数估计的数值通常会变小，因为所有特征都被缩放到了相同的尺度。\n",
    "    - 标准化后的回归系数可以直接用于比较不同特征对标签的相对影响程度。\n",
    "    - 标准化后的参数估计不再以原始数据的单位表示，因此解释上可能更复杂。\n",
    "\n",
    "- ##### **评述**\n",
    "    - **方法选择**\n",
    "        - 如果模型中包含了多个特征且这些特征的单位和量纲不同，可以使用标准化来消除量纲的影响，尤其是在模型使用了正则化方法时。\n",
    "        - 如果所有特征的单位和量纲相似，可以选择中心化，以便于简单的模型构建和解释。\n",
    "    - **模型稳定性**\n",
    "        - 中心化有助于提高模型的稳定性和准确性，特别是在涉及多重共线性时。\n",
    "        - 标准化在确保所有特征均衡影响时也能显著提高模型性能。"
   ]
  },
  {
   "cell_type": "markdown",
   "metadata": {},
   "source": [
    "### **Q3.从模型显著性、参数显著性以及残差分析三个角度，分析多元线性回归模型是否合理。**"
   ]
  },
  {
   "cell_type": "markdown",
   "metadata": {},
   "source": [
    "#### **模型显著性和参数显著性**"
   ]
  },
  {
   "cell_type": "code",
   "execution_count": 46,
   "metadata": {},
   "outputs": [
    {
     "name": "stdout",
     "output_type": "stream",
     "text": [
      "                            OLS Regression Results                            \n",
      "==============================================================================\n",
      "Dep. Variable:       Brake_Horsepower   R-squared:                       0.807\n",
      "Model:                            OLS   Adj. R-squared:                  0.734\n",
      "Method:                 Least Squares   F-statistic:                     11.12\n",
      "Date:                Mon, 14 Oct 2024   Prob (F-statistic):            0.00317\n",
      "Time:                        21:07:01   Log-Likelihood:                -40.708\n",
      "No. Observations:                  12   AIC:                             89.42\n",
      "Df Residuals:                       8   BIC:                             91.36\n",
      "Df Model:                           3                                         \n",
      "Covariance Type:            nonrobust                                         \n",
      "======================================================================================\n",
      "                         coef    std err          t      P>|t|      [0.025      0.975]\n",
      "--------------------------------------------------------------------------------------\n",
      "Intercept           -266.0312     92.674     -2.871      0.021    -479.737     -52.325\n",
      "rpm                    0.0107      0.004      2.390      0.044       0.000       0.021\n",
      "Road_Octane_Number     3.1348      0.844      3.712      0.006       1.188       5.082\n",
      "Compression            1.8674      0.535      3.494      0.008       0.635       3.100\n",
      "==============================================================================\n",
      "Omnibus:                        0.392   Durbin-Watson:                   1.043\n",
      "Prob(Omnibus):                  0.822   Jarque-Bera (JB):                0.230\n",
      "Skew:                          -0.282   Prob(JB):                        0.891\n",
      "Kurtosis:                       2.625   Cond. No.                     9.03e+04\n",
      "==============================================================================\n",
      "\n",
      "Notes:\n",
      "[1] Standard Errors assume that the covariance matrix of the errors is correctly specified.\n",
      "[2] The condition number is large, 9.03e+04. This might indicate that there are\n",
      "strong multicollinearity or other numerical problems.\n"
     ]
    }
   ],
   "source": [
    "print(model1.summary())"
   ]
  },
  {
   "cell_type": "markdown",
   "metadata": {},
   "source": [
    "从上表可知，\n",
    "- $F$ 检验统计量可以计算为 $11.12$，其 $p$ 值为 $0.00317$，远小于显著性水平 $\\alpha = 0.05$。因此，我们认为回归模型是有意义的。\n",
    "- 对于特征 rpm，Road_Octane_Number 和 Compression，它们的 $t$ 检验统计量分别为 $2.390$，$3.712$ 和 $3.494$，其 $p$ 值均不大于 $0.05$。因此，我们认为这三个特征都是有意义的。"
   ]
  },
  {
   "cell_type": "markdown",
   "metadata": {},
   "source": [
    "#### **残差分析**"
   ]
  },
  {
   "cell_type": "markdown",
   "metadata": {},
   "source": [
    "首先根据上方 OLS回归分析表进行解释：\n",
    "- **Omnibus 和 Prob(Omnibus)**: 用于检验残差的正态性，p 值 0.822 表明残差基本符合正态分布。\n",
    "- **Durbin-Watson**: 为 1.043，检验残差的自相关性。\n",
    "- **Jarque-Bera (JB) 和 Prob(JB)**: 用于进一步检验残差的正态性，p 值 0.891 表明残差基本符合正态分布。\n",
    "- **Skew**: 为 -0.282，表示残差略有左偏。\n",
    "- **Kurtosis**: 为 2.625，接近于 3，说明残差接近正态分布。"
   ]
  },
  {
   "cell_type": "markdown",
   "metadata": {},
   "source": [
    "接下来使用上节实验课上的方法进行分析。"
   ]
  },
  {
   "cell_type": "markdown",
   "metadata": {},
   "source": [
    "残差本质上是数据与所拟合模型之间的差异，即\n",
    "$$\n",
    "e_{i} = y_{i} - \\hat{y}_{i}\n",
    "$$ \n",
    "在线性回归模型中，\n",
    "$$\n",
    "\\hat{y}_i = \\hat{\\beta}_0 + \\hat{\\beta}_1 x_{i1} + \\hat{\\beta}_2 x_{i2}+\\cdots+ \\hat{\\beta}_p x_{ip} , i=1,2,\\cdots,n\n",
    "$$\n",
    "接下来我们要对残差的独立性、同方差和正态性进行验证。"
   ]
  },
  {
   "cell_type": "markdown",
   "metadata": {},
   "source": [
    "首先计算残差并画出残差图，对其分布有一个直观的把握："
   ]
  },
  {
   "cell_type": "code",
   "execution_count": 49,
   "metadata": {},
   "outputs": [
    {
     "name": "stdout",
     "output_type": "stream",
     "text": [
      "预测值： [224.2687 225.3282 240.9585 218.8626 207.4442 267.1082 243.7863 237.1246\n",
      " 235.9067 221.1257 222.1261 233.9601]\n",
      "残差： [  0.7313 -13.3282 -11.9585   3.1374  11.5558  10.8918   2.2137  -0.1246\n",
      "  -2.9067   2.8743   0.8739  -3.9601]\n"
     ]
    },
    {
     "data": {
      "image/png": "[encoded data removed]",
      "text/plain": [
       "<Figure size 1000x600 with 1 Axes>"
      ]
     },
     "metadata": {},
     "output_type": "display_data"
    }
   ],
   "source": [
    "y_pred = X @ beta_hat_1\n",
    "print(\"预测值：\",y_pred)\n",
    "residuals = y - y_pred\n",
    "print(\"残差：\",residuals)\n",
    "\n",
    "# 绘制残差图\n",
    "plt.figure(figsize=(10, 6))\n",
    "plt.plot(residuals, marker=\".\", color=\"blue\", linestyle=\"none\")\n",
    "plt.xlabel(\"Index\")\n",
    "plt.ylabel(\"Residuals\")\n",
    "plt.title(\"Residuals of Brake Horsepower\")\n",
    "plt.axhline(0, color='red', linestyle='--')  # 添加y=0的参考线\n",
    "plt.show()\n"
   ]
  },
  {
   "cell_type": "markdown",
   "metadata": {},
   "source": [
    "##### **独立性检验**"
   ]
  },
  {
   "cell_type": "markdown",
   "metadata": {},
   "source": [
    "- ##### **Durbin-Watson检验（简称“DW检验”）**\n",
    "\n",
    "    这是一种检验序列是否存在一阶自相关性的常用方法。\n",
    "    对于残差序列 $\\{e_i, i = 1,2,\\cdots,n,\\cdots\\}$，考虑残差相关性方程为\n",
    "    $$\n",
    "    e_{i} = \\rho e_{i-1} + v_{i}, \\quad v_i \\overset{i.i.d}{\\sim} N(0,\\sigma_v^2)，\n",
    "    $$\n",
    "    其中，$|\\rho| < 1$。\n",
    "    \n",
    "    DW检验统计量为\n",
    "    $$\n",
    "    DW = \\frac{\\sum_{i=2}^n (e_i - e_{i-1})^2}{\\sum_{i=1}^n e_{i}^2}\n",
    "    $$\n",
    "\n",
    "    判断规则为\n",
    "    - 如果 $DW < d_L$, 那么拒绝原假设；\n",
    "    - 如果 $DW > d_U$, 那么接受原假设；\n",
    "    - 如果 $d_L \\leq DW \\leq d_U$, 那么无法判断。"
   ]
  },
  {
   "cell_type": "code",
   "execution_count": 53,
   "metadata": {},
   "outputs": [
    {
     "name": "stdout",
     "output_type": "stream",
     "text": [
      "DW statistic is 1.0431\n"
     ]
    }
   ],
   "source": [
    "DW = durbin_watson(residuals)\n",
    "print(\"DW statistic is\", round(DW,4))"
   ]
  },
  {
   "cell_type": "markdown",
   "metadata": {},
   "source": [
    "查表知 $d_L = 0.51,d_U=2.18,d_L< DW < d_U$，\n",
    "\n",
    "**所以，**<br>\n",
    "无法根据 DW 检验判断残差序列是否存在一阶自相关性。"
   ]
  },
  {
   "cell_type": "markdown",
   "metadata": {},
   "source": [
    "考虑使用别的方法进行独立性检验，其中 Breusch-Godfrey 检验是检验回归模型自相关性的常用方法。\n",
    "- ##### **Breusch-Godfrey 检验**\n",
    "    Breusch-Godfrey 检验用于检验回归模型中的自相关性，特别是高阶自相关性。这种检验是线性回归分析中常见的用于验证残差序列的独立性假设的方法，通常也被称为广义 Lagrange 乘数（LM）检验。\n",
    "\n",
    "    假设\n",
    "    - 原假设 $\\bm{H_0}$：不存在自相关性，即残差之间相互独立\n",
    "    - 备择假设 $\\bm{H_1}$：存在自相关性，即残差之间相关\n",
    "\n",
    "    检验步骤\n",
    "    - 估计原始回归模型：首先对数据进行线性回归并得到残差\n",
    "    - 构建辅助回归模型：\n",
    "        - 用回归模型的残差作为因变量，回归自变量和滞后残差项\n",
    "        - 如果你想检验k阶自相关性，则需要包括k个滞后项\n",
    "    - 计算LM统计量：通常为样本数量乘以辅助回归的决定系数（$LM=nR^2$）\n",
    "    - 显著性检验：将LM统计量与卡方分布的临界值进行比较\n",
    "        - 如果p值小于显著性水平（通常为0.05），则拒绝原假设，说明存在自相关性"
   ]
  },
  {
   "cell_type": "markdown",
   "metadata": {},
   "source": [
    "在 Python 中调用函数分别检验 1 阶、2 阶和 3 阶自相关："
   ]
  },
  {
   "cell_type": "code",
   "execution_count": 95,
   "metadata": {},
   "outputs": [
    {
     "name": "stdout",
     "output_type": "stream",
     "text": [
      "\n",
      "检验阶数: 1\n",
      "LM统计量: 3.7565\n",
      "p值: 0.0526\n",
      "F统计量: 3.1898\n",
      "F的p值: 0.1173\n",
      "\n",
      "检验阶数: 2\n",
      "LM统计量: 9.226\n",
      "p值: 0.0099\n",
      "F统计量: 9.9779\n",
      "F的p值: 0.0124\n",
      "\n",
      "检验阶数: 3\n",
      "LM统计量: 9.2264\n",
      "p值: 0.0264\n",
      "F统计量: 5.5441\n",
      "F的p值: 0.0478\n"
     ]
    }
   ],
   "source": [
    "for nlags in range(1, 4):\n",
    "    bg_test = acorr_breusch_godfrey(model1, nlags=nlags)\n",
    "    print(f\"\\n检验阶数: {nlags}\")\n",
    "    print(f\"LM统计量: {round(bg_test[0],4)}\")\n",
    "    print(f\"p值: {round(bg_test[1],4)}\")\n",
    "    print(f\"F统计量: {round(bg_test[2],4)}\")\n",
    "    print(f\"F的p值: {round(bg_test[3],4)}\")"
   ]
  },
  {
   "cell_type": "markdown",
   "metadata": {},
   "source": [
    "**综上，**<br>\n",
    "当检验阶数为 $1$ 时 $p$ 值大于显著性水平 $0.05$，所以可以认为残差不存在一阶自相关性。"
   ]
  },
  {
   "cell_type": "markdown",
   "metadata": {},
   "source": [
    "##### **同方差性检验**"
   ]
  },
  {
   "cell_type": "markdown",
   "metadata": {},
   "source": [
    "在上节课中，我们学习了 Bartlett 检验和 修正后 levene 检验来检验多个组的方差齐性，而对于线性回归模型，我们检测残差的方差是否恒定（即同方差性），这一假设在模型的有效性和可靠性中至关重要。Breusch-Pagan 检验和 White 检验是常用的两种检验方法。"
   ]
  },
  {
   "cell_type": "markdown",
   "metadata": {},
   "source": [
    "- ##### **Breusch-Pagan 检验**\n",
    "    通过回归残差的平方对自变量进行回归，检查是否存在系统性变化。如果回归结果显著，则表示存在异方差性。\n",
    "\n",
    "    步骤：\n",
    "    - 拟合线性回归模型：首先，使用最小二乘法拟合线性回归模型，得到残差 $e_i$\n",
    "    - 计算残差平方：计算残差的平方，即 $e_i^2$\n",
    "    - 回归残差平方与自变量：对残差平方 $e_i^2$ 进行回归，使用原始模型中的自变量 $$ e_i^2 = \\beta_0 + \\beta_1\\bm{X}_1+ \\beta_2\\bm{X}_2+ \\cdots+\\beta_p\\bm{X}_p + \\bm{\\mu}_i $$\n",
    "        其中 $\\bm{X_1},\\bm{X_2},...,\\bm{X_p}$ 是自变量，$\\mu_i$ 是误差项\n",
    "    - 计算统计量：得到该回归模型的 $R^2$ 值，然后计算 Breusch-Pagan 检验统计量：$$ BP = n\\cdot R^2 $$\n",
    "        其中 $n$ 是样本数量。\n",
    "    - 显著性检验：$BP$ 统计量遵循卡方分布，查找相应的 $p$ 值。如果 $p$ 值小于设定的显著性水平，则拒绝原假设，表明存在异方差性。"
   ]
  },
  {
   "cell_type": "markdown",
   "metadata": {},
   "source": [
    "使用 Python 进行 Breusch-Pagan 检验："
   ]
  },
  {
   "cell_type": "code",
   "execution_count": 100,
   "metadata": {},
   "outputs": [
    {
     "name": "stdout",
     "output_type": "stream",
     "text": [
      "Breusch-Pagan Test Results:\n",
      "LM Statistic: 3.6956\n",
      "p-value: 0.2963\n",
      "F-Statistic: 1.1867\n",
      "F p-value: 0.3743\n"
     ]
    }
   ],
   "source": [
    "bp_test = het_breuschpagan(model1.resid, model1.model.exog)\n",
    "\n",
    "labels = ['LM Statistic', 'p-value', 'F-Statistic', 'F p-value']\n",
    "results = dict(zip(labels, bp_test))\n",
    "\n",
    "print(\"Breusch-Pagan Test Results:\")\n",
    "for label, result in results.items():\n",
    "    print(f\"{label}: {round(result,4)}\")"
   ]
  },
  {
   "cell_type": "markdown",
   "metadata": {},
   "source": [
    "因为 $p$ 值远大于显著性水平 $0.05$，所以接受原假设，即认为存在同方差性。"
   ]
  },
  {
   "cell_type": "markdown",
   "metadata": {},
   "source": [
    "- ##### **White 检验**\n",
    "    该检验也用于检测异方差性，但它比Breusch-Pagan检验更加灵活和鲁棒。它不需要对异方差性做出特定假设，因此能够检测更复杂的异方差性模式。\n",
    "\n",
    "    步骤：\n",
    "    - 拟合线性回归模型：同样地，首先拟合线性回归模型以获得残差。\n",
    "    - 构建模型：计算残差的平方 $e_i^2$ 并进行回归。White 检验通常会将所有自变量及其交互项纳入回归，以捕捉更多的异方差性结构：$$ e_i^2 = \\beta_0 + \\beta_1\\bm{X}_1+ \\beta_2\\bm{X}_2+ \\cdots+\\beta_p\\bm{X}_p + \\beta_{p+1}\\bm{X}_1\\bm{X}_2+ \\cdots+\\bm{\\mu}_i $$\n",
    "    - 计算统计量：同样地，得到该回归模型的 $R^2$ 值，计算 White 检验统计量：$$W=n\\cdot R^2$$\n",
    "    - 显著性检验：$W$ 统计量也遵循卡方分布。通过查找 $p$ 值来判断是否拒绝原假设。如果 $p$ 值小于设定的显著性水平，则表示存在异方差性。"
   ]
  },
  {
   "cell_type": "markdown",
   "metadata": {},
   "source": [
    "使用 Python 进行 White 检验："
   ]
  },
  {
   "cell_type": "code",
   "execution_count": 104,
   "metadata": {},
   "outputs": [
    {
     "name": "stdout",
     "output_type": "stream",
     "text": [
      "Lagrange Multiplier Statistic    11.1015\n",
      "p-value                           0.2688\n",
      "f-value                           2.7456\n",
      "f p-value                         0.2955\n",
      "dtype: float64\n"
     ]
    }
   ],
   "source": [
    "white_test = het_white(model1.resid, model1.model.exog)\n",
    "\n",
    "# 输出结果\n",
    "white_results = pd.Series([round(stat, 4) for stat in white_test], index=['Lagrange Multiplier Statistic', 'p-value', 'f-value', 'f p-value'])\n",
    "print(white_results)"
   ]
  },
  {
   "cell_type": "markdown",
   "metadata": {},
   "source": [
    "因为 $p$ 值远大于显著性水平 $0.05$，所以接受原假设，即认为存在同方差性。"
   ]
  },
  {
   "cell_type": "markdown",
   "metadata": {},
   "source": [
    "##### **正态性检验**"
   ]
  },
  {
   "cell_type": "markdown",
   "metadata": {},
   "source": [
    "- ##### **Quantile-Quantile 图**"
   ]
  },
  {
   "cell_type": "markdown",
   "metadata": {},
   "source": [
    "首先绘制 QQ 图，通过图像判断数据是否满足正态性。"
   ]
  },
  {
   "cell_type": "code",
   "execution_count": 84,
   "metadata": {},
   "outputs": [
    {
     "data": {
      "image/png": "[encoded data removed]",
      "text/plain": [
       "<Figure size 640x480 with 1 Axes>"
      ]
     },
     "metadata": {},
     "output_type": "display_data"
    }
   ],
   "source": [
    "osm, osr = stats.probplot(residuals,dist= \"norm\",plot= plt)\n",
    "plt.grid()\n",
    "plt.show()"
   ]
  },
  {
   "cell_type": "markdown",
   "metadata": {},
   "source": [
    "根据上图所示，这些点大体落在参考线上，可以认为残差服从正态分布。"
   ]
  },
  {
   "cell_type": "markdown",
   "metadata": {},
   "source": [
    "- ##### **异常值检测**\n",
    "\n",
    "    基于残差，我们可以构造标准化残差，即\n",
    "    $$\n",
    "    d_{ij} = \\frac{e_{ij}}{\\sqrt{MS_E}}\n",
    "    $$\n",
    "    一般而言，如果残差满足正态分布，那么\n",
    "    - 约 68\\% 落在 $\\pm 1$之内；\n",
    "    - 约 95\\% 落在 $\\pm 2$之内；\n",
    "    - 几乎全部落在 $\\pm 3$之内。\n",
    "\n",
    "    如果标准化残差的绝对值大于3，那么所对应的数据可以判断为异常值。"
   ]
  },
  {
   "cell_type": "code",
   "execution_count": 85,
   "metadata": {},
   "outputs": [
    {
     "name": "stdout",
     "output_type": "stream",
     "text": [
      "max{d_ij} is 1.9284\n"
     ]
    }
   ],
   "source": [
    "MSE = np.sum(residuals ** 2) / n-p-1\n",
    "max_abs_residual = np.max(np.abs(residuals))\n",
    "\n",
    "print(\"max{d_ij} is\",round(max_abs_residual / np.sqrt(MSE),4))"
   ]
  },
  {
   "cell_type": "markdown",
   "metadata": {},
   "source": [
    "由计算结果可知，标准化残差的绝对值的最大值为 $1.9284$，小于 $3$ ，所以认为数据中不包含异常值。"
   ]
  },
  {
   "cell_type": "markdown",
   "metadata": {},
   "source": [
    "- ##### **Shapiro-Wilk 检验**\n",
    "\n",
    "    在Shapiro-Wilk 检验中，检验统计量为\n",
    "    $$\n",
    "    W = \\frac{\\left(\\sum\\limits_{i=1}^n (a_{i}-\\bar{a}) (x_{i}-\\bar{x})\\right)^2}{\\sum\\limits_{i=1}^n (a_i-\\bar{a})^2 \\sum\\limits_{i=1}^n (x_{(i)} - \\bar{x})^2}\n",
    "    $$\n",
    "    其中 $a_1,a_2,\\cdots,a_n$ 在给定样本量 $n$ 时是一些特定的值。我们所构造的拒绝域是 $\\{W\\leq W_{\\alpha}\\}$。"
   ]
  },
  {
   "cell_type": "code",
   "execution_count": 87,
   "metadata": {},
   "outputs": [
    {
     "name": "stdout",
     "output_type": "stream",
     "text": [
      "Shapiro-Wilk test statistic is 0.9291\n",
      "The p value is 0.3706\n"
     ]
    }
   ],
   "source": [
    "SW_stat,SW_pVal = stats.shapiro(residuals)\n",
    "print(\"Shapiro-Wilk test statistic is\", round(SW_stat,4))\n",
    "print(\"The p value is\", round(SW_pVal,4))"
   ]
  },
  {
   "cell_type": "markdown",
   "metadata": {},
   "source": [
    "通过计算结果可知 $p$ 值 $=0.2572$ 大于显著性水平 $0.05$"
   ]
  },
  {
   "cell_type": "markdown",
   "metadata": {},
   "source": [
    "**综上所述，**<br>\n",
    "接受原假设，即认为残差来自服从正态分布的总体。"
   ]
  },
  {
   "cell_type": "markdown",
   "metadata": {},
   "source": [
    "##### **综上，认为该线性回归模型的残差存在独立性、同方差性和正态性。**"
   ]
  },
  {
   "cell_type": "markdown",
   "metadata": {},
   "source": [
    "#### **复相关系数**\n",
    "\n",
    "除了以上三个角度，还可以从**拟合优度**来**度量回归方程对样本观测值的拟合程度**。\n",
    "\n",
    "在多元线性回归中，定义样本决定系数为\n",
    "$$\\begin{aligned}\n",
    "R^2 &= \\frac{SS_R}{SS_T}=1-\\frac{SS_E}{SS_T}\\\\\n",
    "R &= \\sqrt{R^2} \n",
    "\\end{aligned}$$\n",
    "- $R^2$ 的取值在 $[0,1]$ 区间内\n",
    "- $R^2$ 越接近 $1$，表明回归拟合的效果越好\n",
    "- $R^2$ 越接近 $0$，表明回归拟合的效果越差"
   ]
  },
  {
   "cell_type": "code",
   "execution_count": 92,
   "metadata": {},
   "outputs": [
    {
     "name": "stdout",
     "output_type": "stream",
     "text": [
      "R^2 is 0.8065\n"
     ]
    }
   ],
   "source": [
    "SSE = residuals.T @ residuals\n",
    "H = X @ np.linalg.inv(X.T @ X) @ X.T\n",
    "n1 = np.ones((X.shape[0], 1))\n",
    "H_1 = n1 @ np.linalg.inv(n1.T @ n1) @ n1.T\n",
    "SSR = y.T @ (H - H_1) @ y\n",
    "SST = SSE + SSR\n",
    "R2 = SSR / SST\n",
    "print (\"R^2 is\",round(R2,4))"
   ]
  },
  {
   "cell_type": "markdown",
   "metadata": {},
   "source": [
    "通过计算得到 $R^2$ 为 $0.8065$，可知该回归模型的拟合效果较好。"
   ]
  },
  {
   "cell_type": "markdown",
   "metadata": {},
   "source": [
    "### **Q4.若取发动机转速为3000转/min，道路辛烷值为90，发动机压缩值为100时，分别给出制动马力值的置信区间和预测区间。**"
   ]
  },
  {
   "cell_type": "markdown",
   "metadata": {},
   "source": [
    "$y_0$ 的最小方差线性无偏预测为\n",
    "$$\n",
    "\\hat{y}_0 = \\bm{x}_0'\\bm{\\beta} = \\hat{\\beta}_0 + x_{01}\\hat{\\beta}_1+\\cdots+x_{0p}\\hat{\\beta}_p.\n",
    "$$\n",
    "预测值 $\\hat{y}_0$ 的分布为\n",
    "$$\n",
    "\\hat{y}_0 \\sim N(\\bm{x}_0'\\bm{\\beta},\\sigma^2\\bm{x}_0'(\\bm{X}'\\bm{X})^{-1}\\bm{x}_0)\n",
    "$$\n",
    "$y_0$的分布为\n",
    "$$\n",
    "y_0 \\sim N(\\bm{x}_0'\\bm{\\beta},\\sigma^2)\n",
    "$$\n",
    "因为 $\\hat{y}_0$ 和 $y_0$ 相互独立，所以 $\\hat{y}_0-y_0$ 的分布为\n",
    "$$\n",
    "\\hat{y}_0-y_0 \\sim N(\\bm{x}_0'\\bm{\\beta},\\sigma^2(1+\\bm{x}_0'(\\bm{X}'\\bm{X})^{-1}\\bm{x}_0))\n",
    "$$\n",
    "且有 $\\hat{y}_0-y_0$ 与 $\\hat{\\sigma}^2$ 相互独立。"
   ]
  },
  {
   "cell_type": "markdown",
   "metadata": {},
   "source": [
    "因为在正态假设 $\\bm{y}\\sim N(\\bm{X\\beta},\\sigma^2\\bm{I}_n)$ 下，有\n",
    "$$\n",
    "SS_E/\\sigma^2 \\sim \\chi^2(n-p-1),\\text{其中}SS_E=\\bm{e}'\\bm{e}\n",
    "$$\n",
    "于是，\n",
    "$$\n",
    "\\dfrac{\\hat{y}_0-y_0}{\\hat{\\sigma}\\sqrt{1+\\bm{x}_0'(\\bm{X}'\\bm{X})^{-1}\\bm{x}_0}}\\sim t_{n-p-1}\n",
    "$$\n",
    "$y_0$ 的置信水平为 $1-\\alpha$ 的预测区间为\n",
    "$$\n",
    "\\hat{y}_0\\pm t_{1-\\frac{\\alpha}{2}}(n-p-1)\\hat{\\sigma}\\sqrt{1+\\bm{x}_0'(\\bm{X}'\\bm{X})^{-1}\\bm{x}_0}\n",
    "$$\n",
    "$E(y_0)$ 的置信水平为 $1-\\alpha$ 的置信区间为\n",
    "$$\n",
    "\\hat{y}_0\\pm t_{1-\\frac{\\alpha}{2}}(n-p-1)\\hat{\\sigma}\\sqrt{\\bm{x}_0'(\\bm{X}'\\bm{X})^{-1}\\bm{x}_0}\n",
    "$$\n",
    "其中，$\\hat{\\sigma}^2 = (n-p-1)^{-1}\\sum_{i=1}^n e_i^2$."
   ]
  },
  {
   "cell_type": "markdown",
   "metadata": {},
   "source": [
    "首先整理计算所需的变量与参数："
   ]
  },
  {
   "cell_type": "code",
   "execution_count": 75,
   "metadata": {},
   "outputs": [],
   "source": [
    "x_0 = np.array([[1],[3000], [90], [100]])\n",
    "y_0 = (x_0.T @ beta_hat_1).item()\n",
    "sigma_hat_2 = np.sum(residuals ** 2) / (n-p-1)\n",
    "sigma_hat = np.sqrt(sigma_hat_2)\n",
    "tVal = t.ppf(1-alpha/2, n- p - 1)"
   ]
  },
  {
   "cell_type": "markdown",
   "metadata": {},
   "source": [
    "#### **置信区间**"
   ]
  },
  {
   "cell_type": "code",
   "execution_count": 78,
   "metadata": {},
   "outputs": [
    {
     "name": "stdout",
     "output_type": "stream",
     "text": [
      "制动马力值的置信区间为 [226.2457, 243.7181]\n"
     ]
    }
   ],
   "source": [
    "temp = tVal * sigma_hat * np.sqrt(x_0.T @ np.linalg.inv(X.T @ X) @ x_0)\n",
    "confidenceInterval = [round((y_0-temp).item(),4),round((y_0+temp).item(),4)]\n",
    "print(\"制动马力值的置信区间为\",confidenceInterval)"
   ]
  },
  {
   "cell_type": "markdown",
   "metadata": {},
   "source": [
    "#### **预测区间**"
   ]
  },
  {
   "cell_type": "code",
   "execution_count": 79,
   "metadata": {},
   "outputs": [
    {
     "name": "stdout",
     "output_type": "stream",
     "text": [
      "制动马力值的预测区间为 [212.8622, 257.1016]\n"
     ]
    }
   ],
   "source": [
    "temp2 = tVal * sigma_hat * np.sqrt(1 + x_0.T @ np.linalg.inv(X.T @ X) @ x_0)\n",
    "predInterval = [round((y_0-temp2).item(),4),round((y_0+temp2).item(),4)]\n",
    "print(\"制动马力值的预测区间为\",predInterval)"
   ]
  },
  {
   "cell_type": "markdown",
   "metadata": {},
   "source": [
    "**综上所述，**\n",
    "\n",
    "发动机转速为3000转/min，道路辛烷值为90，发动机压缩值为100时，\n",
    "- 制动马力值的置信区间：[226.2457, 243.7181]\n",
    "- 制动马力值的预测区间：[212.8622, 257.1016]"
   ]
  }
 ],
 "metadata": {
  "kernelspec": {
   "display_name": "iueio",
   "language": "python",
   "name": "python3"
  },
  "language_info": {
   "codemirror_mode": {
    "name": "ipython",
    "version": 3
   },
   "file_extension": ".py",
   "mimetype": "text/x-python",
   "name": "python",
   "nbconvert_exporter": "python",
   "pygments_lexer": "ipython3",
   "version": "3.8.16"
  }
 },
 "nbformat": 4,
 "nbformat_minor": 2
}
